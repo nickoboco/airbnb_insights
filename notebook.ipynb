{
 "cells": [
  {
   "cell_type": "markdown",
   "id": "b9d40a5c",
   "metadata": {
    "heading_collapsed": true,
    "id": "b9d40a5c"
   },
   "source": [
    "## Contexto do Problema"
   ]
  },
  {
   "cell_type": "markdown",
   "id": "ca987b85",
   "metadata": {
    "hidden": true,
    "id": "ca987b85"
   },
   "source": [
    "O investidor James Bauer gostaria de diversificar seus negócios e começar a investir em imóveis. Ele definiu que compraria imóveis na cidade de Nova York, nos Estados Unidos. Por ser um dos locais mais caros para se viver no País, ele acredita que obterá um retorno satisfatório de seus investimentos caso loque imóveis na cidade. Como todas as suas decisões são tomadas com base em dados, ele contratou você, cientista de dados, para ajudá-lo nessa empreitada.\n",
    "\n",
    "James Bauer planeja inicialmente locar os imóveis adquiridos e por isso ele definiu que irá utilizar a plataforma Airbnb para esse fim. Para isso, ele lhe entregou uma base de dados públicos da empresa, contendo os dados do comportamento dos hosts e de seus imóveis.\n",
    "\n",
    "Lembrando que o contexto, pessoas e perguntas são completamente fictícios e existem somente na minha imaginação."
   ]
  },
  {
   "cell_type": "markdown",
   "id": "165cc088",
   "metadata": {
    "heading_collapsed": true,
    "id": "165cc088"
   },
   "source": [
    "## O Desafio"
   ]
  },
  {
   "cell_type": "markdown",
   "id": "670773fa",
   "metadata": {
    "hidden": true,
    "id": "670773fa"
   },
   "source": [
    "James Bauer o contratou para realizar o estudo da base de dados fornecida e ajudá-lo com a escolha das regiões onde há maior locação e maiores preços, e que fiquem em regiões favoráveis da cidade de Nova York, pois ele acredita que essas características irão ajudá-lo a recuperar o dinheiro investido na aquisição desses imóveis mais rapidamente.\n",
    "\n",
    "Dessa forma, seu trabalho é realizar uma análise exploratória e responder às seguintes perguntas feitas pelo Sr. James Bauer:\n",
    "\n",
    "1. Qual o `id` do imóvel com o aluguel (diária) mais caro da base de dados?\n",
    "2. Qual o `id` do imóvel com o aluguel (diária) mais barato da base de dados?\n",
    "3. Qual o `id` do imóvel que foi mais locado da base de dados?\n",
    "4. Qual o `id` do imóvel que ficou mais tempo com o anúncio disponível, em\n",
    "dias, para locação na base de dados?\n",
    "5. Qual o `id` do imóvel que ficou menos tempo com o anúncio disponível, em\n",
    "dias, para locação na base de dados?\n",
    "6. O imóvel com o maior valor de aluguel (diária) da base de dados é o imóvel\n",
    "que possui mais avaliações na base de dados?\n",
    "7. O imóvel que possui a menor quantidade mínima de diárias para locação é\n",
    "também o imóvel que possui o aluguel mais caro?\n",
    "8. Qual é a média do número mínimo de diárias para locação de um imóvel? \n",
    "9. Qual é o `id` do imóvel com a menor quantidade mínima de diárias para locação da base de dados?\n",
    "10. Qual é o `id` do host que possui o imóvel mais alugado na base de dados?\n",
    "11. Qual é o `id` do host que possui o imóvel menos alugado na base de dados?\n",
    "12. Qual é o `id` do host que possui o imóvel com mais avaliações na base de\n",
    "dados?\n",
    "13. Qual é o `id` do host que possui a maior quantidade de imóveis cadastrados\n",
    "na base de dados?\n",
    "14. Qual o `id` do host que possui o imóvel com a última avaliação feita na base\n",
    "de dados?\n",
    "15. Qual o `id` do host que possui mais imóveis ativos dentro da base de dados?\n",
    "16. O host que possui mais imóveis é o host que também possui mais\n",
    "avaliações?\n",
    "17. Qual é a categoria que mais possui imóveis dentro da base de dados?\n",
    "18. Qual é a categoria que menos possui imóveis dentro da base de dados?\n",
    "19. A região de Manhattan é a região que mais possui imóveis ativos para\n",
    "locação, da categoria `Private room`?\n",
    "20. Qual a categoria de imóvel que possui a maior média de tempo de\n",
    "disponibilidade para serem locados da região do `Bronx`? Considere somente\n",
    "imóveis ativos\n",
    "21. Qual a categoria de imóvel ativo que possui o maior valor de aluguel (diária)\n",
    "na região de `Manhattan`?\n",
    "22. A categoria de imóvel `Private Room` é a categoria que fica mais tempo\n",
    "disponível para locação?\n",
    "23. Qual a categoria de imóvel que fica mais tempo disponível, na média, para\n",
    "locação?\n",
    "24. A categoria de imóvel que fica menos tempo disponível, na média, para\n",
    "locação é a categoria que possui, em média, o menor aluguel (diária)?\n",
    "25. A categoria de imóvel `Entire home/apt` é a categoria que possui, na média, o\n",
    "maior valor de aluguel?\n",
    "26. A categoria de imóvel `Entire home/apt` é a categoria que possui, na média,\n",
    "menos locações?\n",
    "27. A categoria de imóvel `Private Room` na região de `Manhattan`, na média, é\n",
    "a categoria que possui o menor valor (diária) de locação, comparado as\n",
    "outras categorias na mesma região?\n",
    "28. Qual a região que possui a maior quantidade de imóveis?\n",
    "29. Qual a região que possui a menor quantidade de imóveis?\n",
    "30. A região que possui a maior quantidade de imóveis é também a região que\n",
    "possui os imóveis mais locados?\n",
    "31. Qual a região que possui a menor quantidade de imóveis locados dentro da\n",
    "base de dados?\n",
    "32. A região de `Manhattan` é a região que possui, na média, os maiores\n",
    "aluguéis (diárias) dentro da base de dados?\n",
    "33. A região de `Queens` é a região que possui, na média, os menores aluguéis\n",
    "(diárias) dentro da base de dados?\n",
    "34. Qual a região que possui, na média, os imóveis com os menores aluguéis\n",
    "dentro da base de dados?\n",
    "35. Qual a região que possui os imóveis que ficam, na média, menos tempo\n",
    "disponíveis para aluguel? Ou seja, são alugados mais rápidos na média?\n",
    "36. Qual o bairro possui a maior quantidade de imóveis ativos para locação?\n",
    "37. Qual o bairro possui a menor quantidade de imóveis ativos para locação?\n",
    "38. Qual bairro está o imóvel com o maior valor de aluguel?\n",
    "39. Qual bairro está o imóvel com o menor valor de aluguel?\n",
    "40. Qual região que possui o bairro com mais imóveis ativos disponíveis para\n",
    "locação?\n",
    "41. Qual região que possui o bairro com menos imóveis ativos disponíveis para\n",
    "locação?\n",
    "42. O Bairro `Upper West Side`, na região de `Manhattan`, é o bairro que possui,\n",
    "na média, o maior aluguel dentro da base de dados?\n",
    "43. Qual é o bairro que possui, na média, o aluguel mais caro da base de dados?\n",
    "44. Qual o id do imóvel que possui a melhor rentabilidade da base de dados?\n",
    "Levando em consideração o aluguel mais caro e imóvel mais rápido de\n",
    "alugar? Utilize somente os imóveis que estejam ativos e que possuam pelo\n",
    "menos uma avaliação. Utilize a seguinte fórmula para verificar qual o melhor\n",
    "imóvel:\n",
    "\n",
    "$$ 𝑟𝑒𝑛𝑡𝑎𝑏𝑖𝑙𝑖𝑑𝑎𝑑𝑒 = \\frac{𝑝𝑟𝑖𝑐𝑒 * (𝑚𝑖𝑛𝑖𝑚𝑢𝑚\\_𝑛𝑖𝑔ℎ𝑡𝑠 + 1) *  n𝑢𝑚𝑏𝑒𝑟\\_𝑜𝑓\\_𝑟𝑒𝑣𝑖𝑒𝑤𝑠}{ \\sqrt{𝑎𝑣𝑎𝑖𝑙𝑎𝑏𝑖𝑙𝑖𝑡𝑦_365}} $$\n",
    "\n",
    "45. Qual a região em que fica o melhor bairro para se adquirir um imóvel, visando\n",
    "a melhor rentabilidade média? Utilize como métrica o índice criado na\n",
    "questão anterior.\n",
    "46. Qual a região em que fica o pior bairro para se adquirir um imóvel, visando a melhor rentabilidade média? Utilize como métrica o índice criado na questão 44.\n",
    "47. Levando em conta o bairro encontrado na questão anterior, verifique qual é o\n",
    "`id` do imóvel ativo que possui a pior rentabilidade desse bairro\n",
    "48. Levando em conta o bairro da questão 45, verifique qual o `id` do imóvel ativo que possui a melhor rentabilidade desse bairro\n",
    "49. Caso eu, investidor, compre o imóvel da questão anterior com um\n",
    "investimento de U$ 1.000.000,00, quantas vezes eu teria que locá-lo para ter\n",
    "o retorno do investimento feito? Utilize a fórmula abaixo para calcular o tempo\n",
    "de retorno do investimento:\n",
    "\n",
    "$$ 𝑟𝑒𝑡𝑢𝑟𝑛_𝑖𝑛𝑣𝑒𝑠𝑡𝑚𝑒𝑛𝑡 = \\frac{𝑖𝑛𝑣𝑒𝑠𝑡𝑚𝑒𝑛𝑡}{𝑝𝑟𝑖𝑐𝑒 * (𝑚𝑖𝑛𝑖𝑚𝑢𝑚\\_𝑛𝑖𝑔ℎ𝑡𝑠 + 1)} $$\n",
    "\n",
    "50. Se eu desejasse comprar um imóvel que esteja ativo e com pelo menos uma avaliação em um dos bairros abaixo, qual seria o `id` do imóvel com a melhor rentabilidade dentre esses bairros? Utilize o índice calculado na questão 44.\n",
    "  * East Harlem\n",
    "  * Harlem\n",
    "  * Midtown\n",
    "  * Morningside Heights\n",
    "  * Upper West Side\n",
    "  * Upper East Side"
   ]
  },
  {
   "cell_type": "markdown",
   "id": "d0240178",
   "metadata": {
    "heading_collapsed": true,
    "id": "d0240178"
   },
   "source": [
    "## Os Dados"
   ]
  },
  {
   "cell_type": "markdown",
   "id": "31be0f41",
   "metadata": {
    "hidden": true,
    "id": "31be0f41"
   },
   "source": [
    "O conjunto de dados que representam o contexto está disponível na plataforma do Kaggle. O link para acesso aos dados :\n",
    "\n",
    "https://www.kaggle.com/datasets/dgomonov/new-york-city-airbnb-open-data\n"
   ]
  },
  {
   "cell_type": "markdown",
   "id": "a3a41c2a",
   "metadata": {
    "id": "a3a41c2a"
   },
   "source": [
    "## Solução do Desafio"
   ]
  },
  {
   "cell_type": "markdown",
   "id": "26f68b40",
   "metadata": {
    "heading_collapsed": true,
    "id": "26f68b40"
   },
   "source": [
    "### Imports de Bibliotecas"
   ]
  },
  {
   "cell_type": "code",
   "execution_count": 1,
   "id": "89188b73",
   "metadata": {
    "ExecuteTime": {
     "end_time": "2022-11-24T10:27:14.028490Z",
     "start_time": "2022-11-24T10:27:12.461458Z"
    },
    "hidden": true,
    "id": "89188b73"
   },
   "outputs": [],
   "source": [
    "from IPython.display import Image\n",
    "import pandas as pd\n",
    "import numpy as np\n",
    "from matplotlib import pyplot\n",
    "from math import sqrt"
   ]
  },
  {
   "cell_type": "markdown",
   "id": "d75baf0d",
   "metadata": {
    "heading_collapsed": true,
    "id": "d75baf0d"
   },
   "source": [
    "### Leitura do Arquivo"
   ]
  },
  {
   "cell_type": "code",
   "execution_count": 2,
   "id": "40c14a9c",
   "metadata": {
    "ExecuteTime": {
     "end_time": "2022-11-24T10:27:14.169457Z",
     "start_time": "2022-11-24T10:27:14.029930Z"
    },
    "hidden": true,
    "id": "40c14a9c"
   },
   "outputs": [],
   "source": [
    "data = pd.read_csv(\"datasets/AB_NYC_2019.csv\")"
   ]
  },
  {
   "cell_type": "markdown",
   "id": "b3aa724b",
   "metadata": {
    "heading_collapsed": true,
    "id": "b3aa724b"
   },
   "source": [
    "### Entendimento dos dados"
   ]
  },
  {
   "cell_type": "code",
   "execution_count": 3,
   "id": "9f7833f7",
   "metadata": {
    "ExecuteTime": {
     "end_time": "2022-11-21T16:34:32.157129Z",
     "start_time": "2022-11-21T16:34:32.139176Z"
    },
    "hidden": true,
    "scrolled": true
   },
   "outputs": [
    {
     "data": {
      "text/plain": [
       "id                                  int64\n",
       "name                               object\n",
       "host_id                             int64\n",
       "host_name                          object\n",
       "neighbourhood_group                object\n",
       "neighbourhood                      object\n",
       "latitude                          float64\n",
       "longitude                         float64\n",
       "room_type                          object\n",
       "price                               int64\n",
       "minimum_nights                      int64\n",
       "number_of_reviews                   int64\n",
       "last_review                        object\n",
       "reviews_per_month                 float64\n",
       "calculated_host_listings_count      int64\n",
       "availability_365                    int64\n",
       "dtype: object"
      ]
     },
     "execution_count": 3,
     "metadata": {},
     "output_type": "execute_result"
    }
   ],
   "source": [
    "data.dtypes"
   ]
  },
  {
   "cell_type": "code",
   "execution_count": 4,
   "id": "230ef027",
   "metadata": {
    "ExecuteTime": {
     "end_time": "2022-11-21T16:34:35.559727Z",
     "start_time": "2022-11-21T16:34:35.546762Z"
    },
    "hidden": true,
    "id": "230ef027"
   },
   "outputs": [
    {
     "data": {
      "text/plain": [
       "(48895, 16)"
      ]
     },
     "execution_count": 4,
     "metadata": {},
     "output_type": "execute_result"
    }
   ],
   "source": [
    "data.shape"
   ]
  },
  {
   "cell_type": "code",
   "execution_count": 5,
   "id": "7039383f",
   "metadata": {
    "ExecuteTime": {
     "end_time": "2022-11-21T16:34:36.292670Z",
     "start_time": "2022-11-21T16:34:36.242811Z"
    },
    "hidden": true,
    "id": "7039383f"
   },
   "outputs": [
    {
     "data": {
      "text/html": [
       "<div>\n",
       "<style scoped>\n",
       "    .dataframe tbody tr th:only-of-type {\n",
       "        vertical-align: middle;\n",
       "    }\n",
       "\n",
       "    .dataframe tbody tr th {\n",
       "        vertical-align: top;\n",
       "    }\n",
       "\n",
       "    .dataframe thead th {\n",
       "        text-align: right;\n",
       "    }\n",
       "</style>\n",
       "<table border=\"1\" class=\"dataframe\">\n",
       "  <thead>\n",
       "    <tr style=\"text-align: right;\">\n",
       "      <th></th>\n",
       "      <th>id</th>\n",
       "      <th>host_id</th>\n",
       "      <th>latitude</th>\n",
       "      <th>longitude</th>\n",
       "      <th>price</th>\n",
       "      <th>minimum_nights</th>\n",
       "      <th>number_of_reviews</th>\n",
       "      <th>reviews_per_month</th>\n",
       "      <th>calculated_host_listings_count</th>\n",
       "      <th>availability_365</th>\n",
       "    </tr>\n",
       "  </thead>\n",
       "  <tbody>\n",
       "    <tr>\n",
       "      <th>count</th>\n",
       "      <td>4.889500e+04</td>\n",
       "      <td>4.889500e+04</td>\n",
       "      <td>48895.000000</td>\n",
       "      <td>48895.000000</td>\n",
       "      <td>48895.000000</td>\n",
       "      <td>48895.000000</td>\n",
       "      <td>48895.000000</td>\n",
       "      <td>38843.000000</td>\n",
       "      <td>48895.000000</td>\n",
       "      <td>48895.000000</td>\n",
       "    </tr>\n",
       "    <tr>\n",
       "      <th>mean</th>\n",
       "      <td>1.901714e+07</td>\n",
       "      <td>6.762001e+07</td>\n",
       "      <td>40.728949</td>\n",
       "      <td>-73.952170</td>\n",
       "      <td>152.720687</td>\n",
       "      <td>7.029962</td>\n",
       "      <td>23.274466</td>\n",
       "      <td>1.373221</td>\n",
       "      <td>7.143982</td>\n",
       "      <td>112.781327</td>\n",
       "    </tr>\n",
       "    <tr>\n",
       "      <th>std</th>\n",
       "      <td>1.098311e+07</td>\n",
       "      <td>7.861097e+07</td>\n",
       "      <td>0.054530</td>\n",
       "      <td>0.046157</td>\n",
       "      <td>240.154170</td>\n",
       "      <td>20.510550</td>\n",
       "      <td>44.550582</td>\n",
       "      <td>1.680442</td>\n",
       "      <td>32.952519</td>\n",
       "      <td>131.622289</td>\n",
       "    </tr>\n",
       "    <tr>\n",
       "      <th>min</th>\n",
       "      <td>2.539000e+03</td>\n",
       "      <td>2.438000e+03</td>\n",
       "      <td>40.499790</td>\n",
       "      <td>-74.244420</td>\n",
       "      <td>0.000000</td>\n",
       "      <td>1.000000</td>\n",
       "      <td>0.000000</td>\n",
       "      <td>0.010000</td>\n",
       "      <td>1.000000</td>\n",
       "      <td>0.000000</td>\n",
       "    </tr>\n",
       "    <tr>\n",
       "      <th>25%</th>\n",
       "      <td>9.471945e+06</td>\n",
       "      <td>7.822033e+06</td>\n",
       "      <td>40.690100</td>\n",
       "      <td>-73.983070</td>\n",
       "      <td>69.000000</td>\n",
       "      <td>1.000000</td>\n",
       "      <td>1.000000</td>\n",
       "      <td>0.190000</td>\n",
       "      <td>1.000000</td>\n",
       "      <td>0.000000</td>\n",
       "    </tr>\n",
       "    <tr>\n",
       "      <th>50%</th>\n",
       "      <td>1.967728e+07</td>\n",
       "      <td>3.079382e+07</td>\n",
       "      <td>40.723070</td>\n",
       "      <td>-73.955680</td>\n",
       "      <td>106.000000</td>\n",
       "      <td>3.000000</td>\n",
       "      <td>5.000000</td>\n",
       "      <td>0.720000</td>\n",
       "      <td>1.000000</td>\n",
       "      <td>45.000000</td>\n",
       "    </tr>\n",
       "    <tr>\n",
       "      <th>75%</th>\n",
       "      <td>2.915218e+07</td>\n",
       "      <td>1.074344e+08</td>\n",
       "      <td>40.763115</td>\n",
       "      <td>-73.936275</td>\n",
       "      <td>175.000000</td>\n",
       "      <td>5.000000</td>\n",
       "      <td>24.000000</td>\n",
       "      <td>2.020000</td>\n",
       "      <td>2.000000</td>\n",
       "      <td>227.000000</td>\n",
       "    </tr>\n",
       "    <tr>\n",
       "      <th>max</th>\n",
       "      <td>3.648724e+07</td>\n",
       "      <td>2.743213e+08</td>\n",
       "      <td>40.913060</td>\n",
       "      <td>-73.712990</td>\n",
       "      <td>10000.000000</td>\n",
       "      <td>1250.000000</td>\n",
       "      <td>629.000000</td>\n",
       "      <td>58.500000</td>\n",
       "      <td>327.000000</td>\n",
       "      <td>365.000000</td>\n",
       "    </tr>\n",
       "  </tbody>\n",
       "</table>\n",
       "</div>"
      ],
      "text/plain": [
       "                 id       host_id      latitude     longitude         price  \\\n",
       "count  4.889500e+04  4.889500e+04  48895.000000  48895.000000  48895.000000   \n",
       "mean   1.901714e+07  6.762001e+07     40.728949    -73.952170    152.720687   \n",
       "std    1.098311e+07  7.861097e+07      0.054530      0.046157    240.154170   \n",
       "min    2.539000e+03  2.438000e+03     40.499790    -74.244420      0.000000   \n",
       "25%    9.471945e+06  7.822033e+06     40.690100    -73.983070     69.000000   \n",
       "50%    1.967728e+07  3.079382e+07     40.723070    -73.955680    106.000000   \n",
       "75%    2.915218e+07  1.074344e+08     40.763115    -73.936275    175.000000   \n",
       "max    3.648724e+07  2.743213e+08     40.913060    -73.712990  10000.000000   \n",
       "\n",
       "       minimum_nights  number_of_reviews  reviews_per_month  \\\n",
       "count    48895.000000       48895.000000       38843.000000   \n",
       "mean         7.029962          23.274466           1.373221   \n",
       "std         20.510550          44.550582           1.680442   \n",
       "min          1.000000           0.000000           0.010000   \n",
       "25%          1.000000           1.000000           0.190000   \n",
       "50%          3.000000           5.000000           0.720000   \n",
       "75%          5.000000          24.000000           2.020000   \n",
       "max       1250.000000         629.000000          58.500000   \n",
       "\n",
       "       calculated_host_listings_count  availability_365  \n",
       "count                    48895.000000      48895.000000  \n",
       "mean                         7.143982        112.781327  \n",
       "std                         32.952519        131.622289  \n",
       "min                          1.000000          0.000000  \n",
       "25%                          1.000000          0.000000  \n",
       "50%                          1.000000         45.000000  \n",
       "75%                          2.000000        227.000000  \n",
       "max                        327.000000        365.000000  "
      ]
     },
     "execution_count": 5,
     "metadata": {},
     "output_type": "execute_result"
    }
   ],
   "source": [
    "data.describe()"
   ]
  },
  {
   "cell_type": "code",
   "execution_count": 6,
   "id": "07bb3021",
   "metadata": {
    "ExecuteTime": {
     "end_time": "2022-11-21T16:34:40.752258Z",
     "start_time": "2022-11-21T16:34:40.739292Z"
    },
    "hidden": true,
    "id": "07bb3021",
    "scrolled": true
   },
   "outputs": [
    {
     "data": {
      "text/html": [
       "<div>\n",
       "<style scoped>\n",
       "    .dataframe tbody tr th:only-of-type {\n",
       "        vertical-align: middle;\n",
       "    }\n",
       "\n",
       "    .dataframe tbody tr th {\n",
       "        vertical-align: top;\n",
       "    }\n",
       "\n",
       "    .dataframe thead th {\n",
       "        text-align: right;\n",
       "    }\n",
       "</style>\n",
       "<table border=\"1\" class=\"dataframe\">\n",
       "  <thead>\n",
       "    <tr style=\"text-align: right;\">\n",
       "      <th></th>\n",
       "      <th>id</th>\n",
       "      <th>name</th>\n",
       "      <th>host_id</th>\n",
       "      <th>host_name</th>\n",
       "      <th>neighbourhood_group</th>\n",
       "      <th>neighbourhood</th>\n",
       "      <th>latitude</th>\n",
       "      <th>longitude</th>\n",
       "      <th>room_type</th>\n",
       "      <th>price</th>\n",
       "      <th>minimum_nights</th>\n",
       "      <th>number_of_reviews</th>\n",
       "      <th>last_review</th>\n",
       "      <th>reviews_per_month</th>\n",
       "      <th>calculated_host_listings_count</th>\n",
       "      <th>availability_365</th>\n",
       "    </tr>\n",
       "  </thead>\n",
       "  <tbody>\n",
       "    <tr>\n",
       "      <th>0</th>\n",
       "      <td>2539</td>\n",
       "      <td>Clean &amp; quiet apt home by the park</td>\n",
       "      <td>2787</td>\n",
       "      <td>John</td>\n",
       "      <td>Brooklyn</td>\n",
       "      <td>Kensington</td>\n",
       "      <td>40.64749</td>\n",
       "      <td>-73.97237</td>\n",
       "      <td>Private room</td>\n",
       "      <td>149</td>\n",
       "      <td>1</td>\n",
       "      <td>9</td>\n",
       "      <td>2018-10-19</td>\n",
       "      <td>0.21</td>\n",
       "      <td>6</td>\n",
       "      <td>365</td>\n",
       "    </tr>\n",
       "    <tr>\n",
       "      <th>1</th>\n",
       "      <td>2595</td>\n",
       "      <td>Skylit Midtown Castle</td>\n",
       "      <td>2845</td>\n",
       "      <td>Jennifer</td>\n",
       "      <td>Manhattan</td>\n",
       "      <td>Midtown</td>\n",
       "      <td>40.75362</td>\n",
       "      <td>-73.98377</td>\n",
       "      <td>Entire home/apt</td>\n",
       "      <td>225</td>\n",
       "      <td>1</td>\n",
       "      <td>45</td>\n",
       "      <td>2019-05-21</td>\n",
       "      <td>0.38</td>\n",
       "      <td>2</td>\n",
       "      <td>355</td>\n",
       "    </tr>\n",
       "    <tr>\n",
       "      <th>2</th>\n",
       "      <td>3647</td>\n",
       "      <td>THE VILLAGE OF HARLEM....NEW YORK !</td>\n",
       "      <td>4632</td>\n",
       "      <td>Elisabeth</td>\n",
       "      <td>Manhattan</td>\n",
       "      <td>Harlem</td>\n",
       "      <td>40.80902</td>\n",
       "      <td>-73.94190</td>\n",
       "      <td>Private room</td>\n",
       "      <td>150</td>\n",
       "      <td>3</td>\n",
       "      <td>0</td>\n",
       "      <td>NaN</td>\n",
       "      <td>NaN</td>\n",
       "      <td>1</td>\n",
       "      <td>365</td>\n",
       "    </tr>\n",
       "    <tr>\n",
       "      <th>3</th>\n",
       "      <td>3831</td>\n",
       "      <td>Cozy Entire Floor of Brownstone</td>\n",
       "      <td>4869</td>\n",
       "      <td>LisaRoxanne</td>\n",
       "      <td>Brooklyn</td>\n",
       "      <td>Clinton Hill</td>\n",
       "      <td>40.68514</td>\n",
       "      <td>-73.95976</td>\n",
       "      <td>Entire home/apt</td>\n",
       "      <td>89</td>\n",
       "      <td>1</td>\n",
       "      <td>270</td>\n",
       "      <td>2019-07-05</td>\n",
       "      <td>4.64</td>\n",
       "      <td>1</td>\n",
       "      <td>194</td>\n",
       "    </tr>\n",
       "    <tr>\n",
       "      <th>4</th>\n",
       "      <td>5022</td>\n",
       "      <td>Entire Apt: Spacious Studio/Loft by central park</td>\n",
       "      <td>7192</td>\n",
       "      <td>Laura</td>\n",
       "      <td>Manhattan</td>\n",
       "      <td>East Harlem</td>\n",
       "      <td>40.79851</td>\n",
       "      <td>-73.94399</td>\n",
       "      <td>Entire home/apt</td>\n",
       "      <td>80</td>\n",
       "      <td>10</td>\n",
       "      <td>9</td>\n",
       "      <td>2018-11-19</td>\n",
       "      <td>0.10</td>\n",
       "      <td>1</td>\n",
       "      <td>0</td>\n",
       "    </tr>\n",
       "  </tbody>\n",
       "</table>\n",
       "</div>"
      ],
      "text/plain": [
       "     id                                              name  host_id  \\\n",
       "0  2539                Clean & quiet apt home by the park     2787   \n",
       "1  2595                             Skylit Midtown Castle     2845   \n",
       "2  3647               THE VILLAGE OF HARLEM....NEW YORK !     4632   \n",
       "3  3831                   Cozy Entire Floor of Brownstone     4869   \n",
       "4  5022  Entire Apt: Spacious Studio/Loft by central park     7192   \n",
       "\n",
       "     host_name neighbourhood_group neighbourhood  latitude  longitude  \\\n",
       "0         John            Brooklyn    Kensington  40.64749  -73.97237   \n",
       "1     Jennifer           Manhattan       Midtown  40.75362  -73.98377   \n",
       "2    Elisabeth           Manhattan        Harlem  40.80902  -73.94190   \n",
       "3  LisaRoxanne            Brooklyn  Clinton Hill  40.68514  -73.95976   \n",
       "4        Laura           Manhattan   East Harlem  40.79851  -73.94399   \n",
       "\n",
       "         room_type  price  minimum_nights  number_of_reviews last_review  \\\n",
       "0     Private room    149               1                  9  2018-10-19   \n",
       "1  Entire home/apt    225               1                 45  2019-05-21   \n",
       "2     Private room    150               3                  0         NaN   \n",
       "3  Entire home/apt     89               1                270  2019-07-05   \n",
       "4  Entire home/apt     80              10                  9  2018-11-19   \n",
       "\n",
       "   reviews_per_month  calculated_host_listings_count  availability_365  \n",
       "0               0.21                               6               365  \n",
       "1               0.38                               2               355  \n",
       "2                NaN                               1               365  \n",
       "3               4.64                               1               194  \n",
       "4               0.10                               1                 0  "
      ]
     },
     "execution_count": 6,
     "metadata": {},
     "output_type": "execute_result"
    }
   ],
   "source": [
    "data.head()"
   ]
  },
  {
   "cell_type": "markdown",
   "id": "ec656f3e",
   "metadata": {
    "heading_collapsed": true,
    "id": "ec656f3e"
   },
   "source": [
    "### Tratamento dos Dados Faltantes"
   ]
  },
  {
   "cell_type": "code",
   "execution_count": 3,
   "id": "9f41d04f",
   "metadata": {
    "ExecuteTime": {
     "end_time": "2022-11-24T10:27:19.891838Z",
     "start_time": "2022-11-24T10:27:19.865843Z"
    },
    "hidden": true,
    "id": "9f41d04f"
   },
   "outputs": [],
   "source": [
    "data['reviews_per_month'] = data['reviews_per_month'].fillna(0)\n",
    "data['last_review'] = data['last_review'].fillna('1900-01-01')\n",
    "data['last_review'] = pd.to_datetime(data['last_review'])"
   ]
  },
  {
   "cell_type": "code",
   "execution_count": 4,
   "id": "6e5938f0",
   "metadata": {
    "ExecuteTime": {
     "end_time": "2022-11-24T10:27:20.448045Z",
     "start_time": "2022-11-24T10:27:20.425876Z"
    },
    "hidden": true,
    "id": "6e5938f0"
   },
   "outputs": [],
   "source": [
    "data = data.sort_values('id', ascending=True).reset_index(drop=True)"
   ]
  },
  {
   "cell_type": "markdown",
   "id": "c10ee88a",
   "metadata": {
    "hidden": true,
    "id": "c10ee88a"
   },
   "source": [
    "#### Respondendo as Perguntas do Investidor"
   ]
  },
  {
   "cell_type": "markdown",
   "id": "9e8c1898",
   "metadata": {
    "heading_collapsed": true,
    "hidden": true,
    "id": "9e8c1898"
   },
   "source": [
    "##### 1. Qual o `id` do imóvel com o aluguel (diária) mais caro da base de dados?"
   ]
  },
  {
   "cell_type": "code",
   "execution_count": 35,
   "id": "997412b7",
   "metadata": {
    "ExecuteTime": {
     "end_time": "2022-11-21T16:44:00.997979Z",
     "start_time": "2022-11-21T16:44:00.979031Z"
    },
    "hidden": true,
    "id": "997412b7"
   },
   "outputs": [
    {
     "data": {
      "text/plain": [
       "7003697"
      ]
     },
     "execution_count": 35,
     "metadata": {},
     "output_type": "execute_result"
    }
   ],
   "source": [
    "#max price and min id\n",
    "data[data['price'] == data['price'].max()]['id'].min()"
   ]
  },
  {
   "cell_type": "markdown",
   "id": "9ebd9552",
   "metadata": {
    "heading_collapsed": true,
    "hidden": true,
    "id": "9ebd9552"
   },
   "source": [
    "##### 2. Qual o `id` do imóvel com o aluguel (diária) mais barato da base de dados?"
   ]
  },
  {
   "cell_type": "code",
   "execution_count": 122,
   "id": "5410656b",
   "metadata": {
    "ExecuteTime": {
     "end_time": "2022-11-24T12:01:05.982695Z",
     "start_time": "2022-11-24T12:01:05.965464Z"
    },
    "hidden": true
   },
   "outputs": [
    {
     "data": {
      "text/plain": [
       "1620248"
      ]
     },
     "execution_count": 122,
     "metadata": {},
     "output_type": "execute_result"
    }
   ],
   "source": [
    "df02 = data[data['price'] != 0]\n",
    "df02[df02['price'] == df02['price'].min()]['id'].min()"
   ]
  },
  {
   "cell_type": "markdown",
   "id": "41f0586c",
   "metadata": {
    "heading_collapsed": true,
    "hidden": true,
    "id": "41f0586c"
   },
   "source": [
    "##### 3. Qual o `id`  do imóvel que foi mais locado da base de dados?"
   ]
  },
  {
   "cell_type": "code",
   "execution_count": 57,
   "id": "17d83fec",
   "metadata": {
    "ExecuteTime": {
     "end_time": "2022-11-21T17:00:36.424444Z",
     "start_time": "2022-11-21T17:00:36.413043Z"
    },
    "hidden": true,
    "id": "17d83fec"
   },
   "outputs": [
    {
     "data": {
      "text/plain": [
       "9145202"
      ]
     },
     "execution_count": 57,
     "metadata": {},
     "output_type": "execute_result"
    }
   ],
   "source": [
    "#house with more reviews and min id\n",
    "data[data['number_of_reviews'] == data['number_of_reviews'].max()]['id'].min()"
   ]
  },
  {
   "cell_type": "markdown",
   "id": "48d40ea0",
   "metadata": {
    "heading_collapsed": true,
    "hidden": true,
    "id": "48d40ea0"
   },
   "source": [
    "##### 4. Qual o `id`  do imóvel que ficou mais tempo com o anúncio disponível, em dias, para locação na base de dados?"
   ]
  },
  {
   "cell_type": "code",
   "execution_count": 58,
   "id": "5adec473",
   "metadata": {
    "ExecuteTime": {
     "end_time": "2022-11-21T17:00:38.254964Z",
     "start_time": "2022-11-21T17:00:38.242934Z"
    },
    "hidden": true,
    "id": "5adec473"
   },
   "outputs": [
    {
     "data": {
      "text/plain": [
       "2539"
      ]
     },
     "execution_count": 58,
     "metadata": {},
     "output_type": "execute_result"
    }
   ],
   "source": [
    "#max availability and min id\n",
    "data[data['availability_365'] == data['availability_365'].max()]['id'].min()"
   ]
  },
  {
   "cell_type": "markdown",
   "id": "42053201",
   "metadata": {
    "heading_collapsed": true,
    "hidden": true,
    "id": "42053201"
   },
   "source": [
    "##### 5. Qual o `id` do imóvel que ficou menos tempo com o anúncio disponível, em dias, para locação na base de dados?"
   ]
  },
  {
   "cell_type": "code",
   "execution_count": 61,
   "id": "c9d07f73",
   "metadata": {
    "ExecuteTime": {
     "end_time": "2022-11-21T17:01:19.376069Z",
     "start_time": "2022-11-21T17:01:19.356175Z"
    },
    "hidden": true,
    "id": "c9d07f73"
   },
   "outputs": [
    {
     "data": {
      "text/plain": [
       "5022"
      ]
     },
     "execution_count": 61,
     "metadata": {},
     "output_type": "execute_result"
    }
   ],
   "source": [
    "#min availability and min id\n",
    "data[data['availability_365'] == data['availability_365'].min()]['id'].min()"
   ]
  },
  {
   "cell_type": "markdown",
   "id": "8fe1e6c1",
   "metadata": {
    "heading_collapsed": true,
    "hidden": true,
    "id": "8fe1e6c1"
   },
   "source": [
    "##### 6. O imóvel com o maior valor de aluguel (diária) da base de dados é o imóvel que possui mais avaliações na base de dados?"
   ]
  },
  {
   "cell_type": "code",
   "execution_count": 69,
   "id": "5406672d",
   "metadata": {
    "ExecuteTime": {
     "end_time": "2022-11-21T17:04:43.389355Z",
     "start_time": "2022-11-21T17:04:43.380325Z"
    },
    "hidden": true,
    "id": "5406672d"
   },
   "outputs": [
    {
     "data": {
      "text/plain": [
       "False"
      ]
     },
     "execution_count": 69,
     "metadata": {},
     "output_type": "execute_result"
    }
   ],
   "source": [
    "#house more expansive and house with more reviews\n",
    "houseidpricemax = data[data['price'] == data['price'].max()]['id'].min()\n",
    "houseidreviewmax = data[data['number_of_reviews'] == data['number_of_reviews'].max()]['id'].min()\n",
    "\n",
    "#comparing ids\n",
    "houseidpricemax == houseidreviewmax"
   ]
  },
  {
   "cell_type": "markdown",
   "id": "9147e329",
   "metadata": {
    "heading_collapsed": true,
    "hidden": true,
    "id": "9147e329"
   },
   "source": [
    "##### 7. O imóvel que possui a menor quantidade mínima de diárias para locação é também o imóvel que possuí o aluguel mais caro?"
   ]
  },
  {
   "cell_type": "code",
   "execution_count": 79,
   "id": "557caf1f",
   "metadata": {
    "ExecuteTime": {
     "end_time": "2022-11-21T17:10:02.523329Z",
     "start_time": "2022-11-21T17:10:02.508203Z"
    },
    "hidden": true,
    "id": "557caf1f"
   },
   "outputs": [
    {
     "data": {
      "text/plain": [
       "False"
      ]
     },
     "execution_count": 79,
     "metadata": {},
     "output_type": "execute_result"
    }
   ],
   "source": [
    "#house with min nights and house with max price\n",
    "houseidminnights = data[data['minimum_nights'] == data['minimum_nights'].min()]['id'].min()\n",
    "houseidmaxprice = data[data['price'] == data['price'].max()]['id'].min()\n",
    "\n",
    "#comparing ids\n",
    "houseidmaxprice == houseidminnights"
   ]
  },
  {
   "cell_type": "markdown",
   "id": "5b61000c",
   "metadata": {
    "heading_collapsed": true,
    "hidden": true,
    "id": "5b61000c"
   },
   "source": [
    "##### 8. Qual é a média do número mínimo de diárias para locação de um imóvel? "
   ]
  },
  {
   "cell_type": "code",
   "execution_count": 123,
   "id": "f276f49c",
   "metadata": {
    "ExecuteTime": {
     "end_time": "2022-11-24T12:01:39.883654Z",
     "start_time": "2022-11-24T12:01:39.875492Z"
    },
    "hidden": true
   },
   "outputs": [
    {
     "data": {
      "text/plain": [
       "7.03"
      ]
     },
     "execution_count": 123,
     "metadata": {},
     "output_type": "execute_result"
    }
   ],
   "source": [
    "round(data['minimum_nights'].mean(),2)"
   ]
  },
  {
   "cell_type": "markdown",
   "id": "7bf14986",
   "metadata": {
    "heading_collapsed": true,
    "hidden": true,
    "id": "7bf14986"
   },
   "source": [
    "##### 9. Qual é o `id` do imóvel com a menor quantidade mínima de diárias para locação da base de dados?"
   ]
  },
  {
   "cell_type": "code",
   "execution_count": 96,
   "id": "de5756af",
   "metadata": {
    "ExecuteTime": {
     "end_time": "2022-11-21T17:19:59.224636Z",
     "start_time": "2022-11-21T17:19:59.212642Z"
    },
    "hidden": true,
    "id": "de5756af"
   },
   "outputs": [
    {
     "data": {
      "text/plain": [
       "2539"
      ]
     },
     "execution_count": 96,
     "metadata": {},
     "output_type": "execute_result"
    }
   ],
   "source": [
    "#house with min nights and min id\n",
    "data[data['minimum_nights'] == data['minimum_nights'].min()]['id'].min()"
   ]
  },
  {
   "cell_type": "markdown",
   "id": "cecba7a6",
   "metadata": {
    "heading_collapsed": true,
    "hidden": true,
    "id": "cecba7a6"
   },
   "source": [
    "##### 10. Qual é o `id` do host que possui o imóvel mais alugado na base de dados?"
   ]
  },
  {
   "cell_type": "code",
   "execution_count": 90,
   "id": "36ff4870",
   "metadata": {
    "ExecuteTime": {
     "end_time": "2022-11-21T17:17:34.155695Z",
     "start_time": "2022-11-21T17:17:34.148186Z"
    },
    "hidden": true,
    "id": "36ff4870"
   },
   "outputs": [
    {
     "data": {
      "text/plain": [
       "47621202"
      ]
     },
     "execution_count": 90,
     "metadata": {},
     "output_type": "execute_result"
    }
   ],
   "source": [
    "#host id from the house with more reviews - probably be the house more rented\n",
    "data[data['number_of_reviews'] == data['number_of_reviews'].max()]['host_id'].min()"
   ]
  },
  {
   "cell_type": "markdown",
   "id": "5fc653c0",
   "metadata": {
    "heading_collapsed": true,
    "hidden": true,
    "id": "5fc653c0"
   },
   "source": [
    "##### 11. Qual é o `id` do host que possui o imóvel menos alugado na base de dados?"
   ]
  },
  {
   "cell_type": "code",
   "execution_count": 136,
   "id": "df0b3c6e",
   "metadata": {
    "ExecuteTime": {
     "end_time": "2022-11-24T12:06:21.804963Z",
     "start_time": "2022-11-24T12:06:21.788987Z"
    },
    "hidden": true,
    "id": "a7ddf7de"
   },
   "outputs": [
    {
     "data": {
      "text/plain": [
       "82685"
      ]
     },
     "execution_count": 136,
     "metadata": {},
     "output_type": "execute_result"
    }
   ],
   "source": [
    "df11 = data[data['number_of_reviews'] != 0]\n",
    "\n",
    "df11_1 = df11[df11['number_of_reviews'] == df11['number_of_reviews'].min()]\n",
    "\n",
    "df11_1[df11_1['id'] == df11_1['id'].min()]['host_id'].min(0)"
   ]
  },
  {
   "cell_type": "markdown",
   "id": "4d4cadff",
   "metadata": {
    "heading_collapsed": true,
    "hidden": true,
    "id": "4d4cadff"
   },
   "source": [
    "##### 12. Qual é o `id` do host que possui o imóvel com mais avaliações na base de dados?"
   ]
  },
  {
   "cell_type": "code",
   "execution_count": 90,
   "id": "8e27411a",
   "metadata": {
    "ExecuteTime": {
     "end_time": "2022-11-21T17:17:34.155695Z",
     "start_time": "2022-11-21T17:17:34.148186Z"
    },
    "hidden": true,
    "id": "36ff4870"
   },
   "outputs": [
    {
     "data": {
      "text/plain": [
       "47621202"
      ]
     },
     "execution_count": 90,
     "metadata": {},
     "output_type": "execute_result"
    }
   ],
   "source": [
    "#host id from the house with more reviews\n",
    "data[data['number_of_reviews'] == data['number_of_reviews'].max()]['host_id'].min()"
   ]
  },
  {
   "cell_type": "markdown",
   "id": "abe48688",
   "metadata": {
    "heading_collapsed": true,
    "hidden": true,
    "id": "abe48688"
   },
   "source": [
    "##### 13. Qual é o `id` do host que possui a maior quantidade de imóveis cadastrados na base de dados?"
   ]
  },
  {
   "cell_type": "code",
   "execution_count": 98,
   "id": "f9ac7151",
   "metadata": {
    "ExecuteTime": {
     "end_time": "2022-11-21T17:22:42.655519Z",
     "start_time": "2022-11-21T17:22:42.636508Z"
    },
    "hidden": true,
    "id": "f9ac7151"
   },
   "outputs": [
    {
     "data": {
      "text/plain": [
       "219517861"
      ]
     },
     "execution_count": 98,
     "metadata": {},
     "output_type": "execute_result"
    }
   ],
   "source": [
    "#host with more houses in the dataset\n",
    "data[data['calculated_host_listings_count'] == data['calculated_host_listings_count'].max()]['host_id'].min()"
   ]
  },
  {
   "cell_type": "markdown",
   "id": "e3ba9d63",
   "metadata": {
    "heading_collapsed": true,
    "hidden": true,
    "id": "e3ba9d63"
   },
   "source": [
    "##### 14. Qual o `id` do host que possui o imóvel com a última avaliação feita na base de dados?"
   ]
  },
  {
   "cell_type": "code",
   "execution_count": 138,
   "id": "cb822ff5",
   "metadata": {
    "ExecuteTime": {
     "end_time": "2022-11-24T12:07:32.823983Z",
     "start_time": "2022-11-24T12:07:32.812412Z"
    },
    "hidden": true
   },
   "outputs": [
    {
     "data": {
      "text/plain": [
       "526653"
      ]
     },
     "execution_count": 138,
     "metadata": {},
     "output_type": "execute_result"
    }
   ],
   "source": [
    "df14 = data[data['last_review'] == data['last_review'].max()]\n",
    "df14[df14['id'] == df14['id'].min()]['host_id'].min()"
   ]
  },
  {
   "cell_type": "markdown",
   "id": "86c501b6",
   "metadata": {
    "heading_collapsed": true,
    "hidden": true,
    "id": "86c501b6"
   },
   "source": [
    "##### 15. Qual o `id` do host que possui mais imóveis ativos dentro da base de dados?"
   ]
  },
  {
   "cell_type": "code",
   "execution_count": 63,
   "id": "026bff68",
   "metadata": {
    "ExecuteTime": {
     "end_time": "2022-11-24T11:13:16.729566Z",
     "start_time": "2022-11-24T11:13:16.698819Z"
    },
    "hidden": true,
    "id": "026bff68"
   },
   "outputs": [
    {
     "data": {
      "text/plain": [
       "219517861"
      ]
     },
     "execution_count": 63,
     "metadata": {},
     "output_type": "execute_result"
    }
   ],
   "source": [
    "#new dataframe only with houses available \n",
    "df15 = data[data['availability_365'] != 0]\n",
    "\n",
    "#grouping by host_id  and sorting\n",
    "df15hosts = df15[['id', 'host_id']].groupby('host_id').count().sort_values('id', ascending=False).reset_index()\n",
    "\n",
    "#host with more houses available\n",
    "hostidmorehouses = df15hosts[df15hosts['id'] == df15hosts['id'].max()]['host_id'].min()\n",
    "hostidmorehouses"
   ]
  },
  {
   "cell_type": "markdown",
   "id": "5a7b633d",
   "metadata": {
    "heading_collapsed": true,
    "hidden": true,
    "id": "5a7b633d"
   },
   "source": [
    "##### 16. O host que possui mais imóveis é o host que também possui mais avaliações?"
   ]
  },
  {
   "cell_type": "code",
   "execution_count": 298,
   "id": "83d59afa",
   "metadata": {
    "ExecuteTime": {
     "end_time": "2022-11-21T19:13:03.333705Z",
     "start_time": "2022-11-21T19:13:03.303733Z"
    },
    "hidden": true,
    "id": "83d59afa"
   },
   "outputs": [
    {
     "data": {
      "text/plain": [
       "False"
      ]
     },
     "metadata": {},
     "output_type": "display_data"
    },
    {
     "data": {
      "text/html": [
       "<div>\n",
       "<style scoped>\n",
       "    .dataframe tbody tr th:only-of-type {\n",
       "        vertical-align: middle;\n",
       "    }\n",
       "\n",
       "    .dataframe tbody tr th {\n",
       "        vertical-align: top;\n",
       "    }\n",
       "\n",
       "    .dataframe thead th {\n",
       "        text-align: right;\n",
       "    }\n",
       "</style>\n",
       "<table border=\"1\" class=\"dataframe\">\n",
       "  <thead>\n",
       "    <tr style=\"text-align: right;\">\n",
       "      <th></th>\n",
       "      <th>host_id</th>\n",
       "      <th>number_of_reviews</th>\n",
       "      <th>id</th>\n",
       "    </tr>\n",
       "  </thead>\n",
       "  <tbody>\n",
       "    <tr>\n",
       "      <th>0</th>\n",
       "      <td>37312959</td>\n",
       "      <td>2273</td>\n",
       "      <td>5</td>\n",
       "    </tr>\n",
       "    <tr>\n",
       "      <th>1</th>\n",
       "      <td>344035</td>\n",
       "      <td>2205</td>\n",
       "      <td>12</td>\n",
       "    </tr>\n",
       "    <tr>\n",
       "      <th>2</th>\n",
       "      <td>26432133</td>\n",
       "      <td>2017</td>\n",
       "      <td>5</td>\n",
       "    </tr>\n",
       "    <tr>\n",
       "      <th>3</th>\n",
       "      <td>35524316</td>\n",
       "      <td>1971</td>\n",
       "      <td>11</td>\n",
       "    </tr>\n",
       "    <tr>\n",
       "      <th>4</th>\n",
       "      <td>40176101</td>\n",
       "      <td>1818</td>\n",
       "      <td>7</td>\n",
       "    </tr>\n",
       "    <tr>\n",
       "      <th>...</th>\n",
       "      <td>...</td>\n",
       "      <td>...</td>\n",
       "      <td>...</td>\n",
       "    </tr>\n",
       "    <tr>\n",
       "      <th>21804</th>\n",
       "      <td>140997060</td>\n",
       "      <td>0</td>\n",
       "      <td>1</td>\n",
       "    </tr>\n",
       "    <tr>\n",
       "      <th>21805</th>\n",
       "      <td>24373940</td>\n",
       "      <td>0</td>\n",
       "      <td>1</td>\n",
       "    </tr>\n",
       "    <tr>\n",
       "      <th>21806</th>\n",
       "      <td>140961117</td>\n",
       "      <td>0</td>\n",
       "      <td>1</td>\n",
       "    </tr>\n",
       "    <tr>\n",
       "      <th>21807</th>\n",
       "      <td>24520756</td>\n",
       "      <td>0</td>\n",
       "      <td>1</td>\n",
       "    </tr>\n",
       "    <tr>\n",
       "      <th>21808</th>\n",
       "      <td>274321313</td>\n",
       "      <td>0</td>\n",
       "      <td>1</td>\n",
       "    </tr>\n",
       "  </tbody>\n",
       "</table>\n",
       "<p>21809 rows × 3 columns</p>\n",
       "</div>"
      ],
      "text/plain": [
       "         host_id  number_of_reviews  id\n",
       "0       37312959               2273   5\n",
       "1         344035               2205  12\n",
       "2       26432133               2017   5\n",
       "3       35524316               1971  11\n",
       "4       40176101               1818   7\n",
       "...          ...                ...  ..\n",
       "21804  140997060                  0   1\n",
       "21805   24373940                  0   1\n",
       "21806  140961117                  0   1\n",
       "21807   24520756                  0   1\n",
       "21808  274321313                  0   1\n",
       "\n",
       "[21809 rows x 3 columns]"
      ]
     },
     "metadata": {},
     "output_type": "display_data"
    }
   ],
   "source": [
    "#new dataframe grouped by hostid and sum of reviews\n",
    "df16 = data[['number_of_reviews', 'host_id']].groupby('host_id') \\\n",
    "                                             .sum() \\\n",
    "                                             .sort_values('number_of_reviews', ascending= False).reset_index()\n",
    "\n",
    "#host with more reviews in the dataset\n",
    "hostidmorereviews = df16[df16['number_of_reviews'] == df16['number_of_reviews'].max()]['host_id'].min()\n",
    "\n",
    "#comparting ids\n",
    "display(hostidmorehouses == hostidmorereviews)\n",
    "\n",
    "display(pd.merge(df16, df15hosts, on='host_id', how='inner'))"
   ]
  },
  {
   "cell_type": "markdown",
   "id": "0b5bfcb0",
   "metadata": {
    "heading_collapsed": true,
    "hidden": true,
    "id": "0b5bfcb0"
   },
   "source": [
    "##### 17. Qual é a categoria que mais possui imóveis dentro da base de dados?"
   ]
  },
  {
   "cell_type": "code",
   "execution_count": 177,
   "id": "2d31c898",
   "metadata": {
    "ExecuteTime": {
     "end_time": "2022-11-21T17:51:53.819713Z",
     "start_time": "2022-11-21T17:51:53.805683Z"
    },
    "hidden": true,
    "id": "2d31c898"
   },
   "outputs": [
    {
     "data": {
      "text/plain": [
       "'Entire home/apt'"
      ]
     },
     "execution_count": 177,
     "metadata": {},
     "output_type": "execute_result"
    }
   ],
   "source": [
    "#new dataframe grouped by room type and counting\n",
    "df17 = data[['id', 'room_type']].groupby('room_type').count().sort_values('id', ascending=False).reset_index()\n",
    "\n",
    "#type with more houses in the dataset\n",
    "df17[df17['id'] == df17['id'].max()]['room_type'].min()"
   ]
  },
  {
   "cell_type": "markdown",
   "id": "bb3d35c7",
   "metadata": {
    "heading_collapsed": true,
    "hidden": true,
    "id": "bb3d35c7"
   },
   "source": [
    "##### 18. Qual é a categoria que menos possui imóveis dentro da base de dados?"
   ]
  },
  {
   "cell_type": "code",
   "execution_count": 178,
   "id": "0673c36a",
   "metadata": {
    "ExecuteTime": {
     "end_time": "2022-11-21T17:52:11.757106Z",
     "start_time": "2022-11-21T17:52:11.742602Z"
    },
    "hidden": true,
    "id": "0673c36a"
   },
   "outputs": [
    {
     "data": {
      "text/plain": [
       "'Shared room'"
      ]
     },
     "execution_count": 178,
     "metadata": {},
     "output_type": "execute_result"
    }
   ],
   "source": [
    "#type with less houses in the dataset\n",
    "df17[df17['id'] == df17['id'].min()]['room_type'].min()"
   ]
  },
  {
   "cell_type": "markdown",
   "id": "4cef54f9",
   "metadata": {
    "heading_collapsed": true,
    "hidden": true,
    "id": "4cef54f9"
   },
   "source": [
    "##### 19. A região de `Manhattan` é a região que mais possui imóveis ativos para locação, da categoria `Private room`?"
   ]
  },
  {
   "cell_type": "code",
   "execution_count": 64,
   "id": "b2484524",
   "metadata": {
    "ExecuteTime": {
     "end_time": "2022-11-24T11:13:18.842170Z",
     "start_time": "2022-11-24T11:13:18.818576Z"
    },
    "hidden": true,
    "id": "b2484524"
   },
   "outputs": [
    {
     "data": {
      "text/plain": [
       "False"
      ]
     },
     "metadata": {},
     "output_type": "display_data"
    },
    {
     "data": {
      "text/html": [
       "<div>\n",
       "<style scoped>\n",
       "    .dataframe tbody tr th:only-of-type {\n",
       "        vertical-align: middle;\n",
       "    }\n",
       "\n",
       "    .dataframe tbody tr th {\n",
       "        vertical-align: top;\n",
       "    }\n",
       "\n",
       "    .dataframe thead th {\n",
       "        text-align: right;\n",
       "    }\n",
       "</style>\n",
       "<table border=\"1\" class=\"dataframe\">\n",
       "  <thead>\n",
       "    <tr style=\"text-align: right;\">\n",
       "      <th></th>\n",
       "      <th>neighbourhood_group</th>\n",
       "      <th>id</th>\n",
       "    </tr>\n",
       "  </thead>\n",
       "  <tbody>\n",
       "    <tr>\n",
       "      <th>0</th>\n",
       "      <td>Brooklyn</td>\n",
       "      <td>5880</td>\n",
       "    </tr>\n",
       "    <tr>\n",
       "      <th>1</th>\n",
       "      <td>Manhattan</td>\n",
       "      <td>4782</td>\n",
       "    </tr>\n",
       "    <tr>\n",
       "      <th>2</th>\n",
       "      <td>Queens</td>\n",
       "      <td>2586</td>\n",
       "    </tr>\n",
       "    <tr>\n",
       "      <th>3</th>\n",
       "      <td>Bronx</td>\n",
       "      <td>546</td>\n",
       "    </tr>\n",
       "    <tr>\n",
       "      <th>4</th>\n",
       "      <td>Staten Island</td>\n",
       "      <td>171</td>\n",
       "    </tr>\n",
       "  </tbody>\n",
       "</table>\n",
       "</div>"
      ],
      "text/plain": [
       "  neighbourhood_group    id\n",
       "0            Brooklyn  5880\n",
       "1           Manhattan  4782\n",
       "2              Queens  2586\n",
       "3               Bronx   546\n",
       "4       Staten Island   171"
      ]
     },
     "metadata": {},
     "output_type": "display_data"
    }
   ],
   "source": [
    "#new dataframe grouping by neighbourhood and couting - Only Prive Rooms\n",
    "df19 = df15[df15['room_type'] == 'Private room']\\\n",
    "                                        [['id', 'neighbourhood_group']].groupby('neighbourhood_group') \\\n",
    "                                        .count().sort_values('id', ascending=False) \\\n",
    "                                        .reset_index()\n",
    "\n",
    "#region with more private room\n",
    "regionmoreprivetroom = df19[df19['id'] == df19['id'].max()]['neighbourhood_group'].min()\n",
    "\n",
    "#comparting result\n",
    "display(regionmoreprivetroom == 'Manhattan')\n",
    "\n",
    "display(df19)"
   ]
  },
  {
   "cell_type": "markdown",
   "id": "4924658e",
   "metadata": {
    "heading_collapsed": true,
    "hidden": true,
    "id": "4924658e"
   },
   "source": [
    "##### 20. Qual a categoria de imóvel que possui a maior média de tempo de disponibilidade para serem locados da região do `Bronx`? Considere somente imóveis ativos"
   ]
  },
  {
   "cell_type": "code",
   "execution_count": 228,
   "id": "2d092a4d",
   "metadata": {
    "ExecuteTime": {
     "end_time": "2022-11-21T18:18:14.373889Z",
     "start_time": "2022-11-21T18:18:14.350913Z"
    },
    "hidden": true,
    "id": "2d092a4d"
   },
   "outputs": [
    {
     "data": {
      "text/plain": [
       "'Private room'"
      ]
     },
     "execution_count": 228,
     "metadata": {},
     "output_type": "execute_result"
    }
   ],
   "source": [
    "#new dataframe grouping by room type and availability mean\n",
    "df20 = df15[df15['neighbourhood_group'] == 'Bronx']\\\n",
    "                                        [['availability_365', 'room_type']].groupby('room_type') \\\n",
    "                                        .mean().sort_values('availability_365', ascending=False) \\\n",
    "                                        .reset_index()\n",
    "\n",
    "#room type with max availability mean in the dataset\n",
    "df20[df20['availability_365'] == df20['availability_365'].max()]['room_type'].min()"
   ]
  },
  {
   "cell_type": "markdown",
   "id": "83b23931",
   "metadata": {
    "heading_collapsed": true,
    "hidden": true,
    "id": "83b23931"
   },
   "source": [
    "##### 21. Qual a categoria de imóvel ativo que possui o maior valor de aluguel (diária) na região de `Manhattan`?"
   ]
  },
  {
   "cell_type": "code",
   "execution_count": 236,
   "id": "ae557a31",
   "metadata": {
    "ExecuteTime": {
     "end_time": "2022-11-21T18:42:34.268132Z",
     "start_time": "2022-11-21T18:42:34.254170Z"
    },
    "hidden": true,
    "id": "ae557a31"
   },
   "outputs": [
    {
     "data": {
      "text/plain": [
       "'Entire home/apt'"
      ]
     },
     "execution_count": 236,
     "metadata": {},
     "output_type": "execute_result"
    }
   ],
   "source": [
    "df21 = df15[df15['neighbourhood_group'] == 'Manhattan']\\\n",
    "                                        [['price', 'room_type']].groupby('room_type') \\\n",
    "                                        .max().sort_values('price', ascending=False) \\\n",
    "                                        .reset_index()\n",
    "\n",
    "df21[df21['price'] == df21['price'].max()]['room_type'].min()"
   ]
  },
  {
   "cell_type": "markdown",
   "id": "2f776e18",
   "metadata": {
    "heading_collapsed": true,
    "hidden": true,
    "id": "2f776e18"
   },
   "source": [
    "##### 22. A categoria de imóvel “Private Room“ é a categoria que fica mais tempo disponível para locação?"
   ]
  },
  {
   "cell_type": "code",
   "execution_count": 68,
   "id": "2258a825",
   "metadata": {
    "ExecuteTime": {
     "end_time": "2022-11-24T11:14:48.891349Z",
     "start_time": "2022-11-24T11:14:48.868343Z"
    },
    "hidden": true,
    "id": "2258a825"
   },
   "outputs": [
    {
     "data": {
      "text/plain": [
       "False"
      ]
     },
     "metadata": {},
     "output_type": "display_data"
    },
    {
     "data": {
      "text/html": [
       "<div>\n",
       "<style scoped>\n",
       "    .dataframe tbody tr th:only-of-type {\n",
       "        vertical-align: middle;\n",
       "    }\n",
       "\n",
       "    .dataframe tbody tr th {\n",
       "        vertical-align: top;\n",
       "    }\n",
       "\n",
       "    .dataframe thead th {\n",
       "        text-align: right;\n",
       "    }\n",
       "</style>\n",
       "<table border=\"1\" class=\"dataframe\">\n",
       "  <thead>\n",
       "    <tr style=\"text-align: right;\">\n",
       "      <th></th>\n",
       "      <th>room_type</th>\n",
       "      <th>availability_365</th>\n",
       "    </tr>\n",
       "  </thead>\n",
       "  <tbody>\n",
       "    <tr>\n",
       "      <th>0</th>\n",
       "      <td>Shared room</td>\n",
       "      <td>162.000862</td>\n",
       "    </tr>\n",
       "    <tr>\n",
       "      <th>1</th>\n",
       "      <td>Entire home/apt</td>\n",
       "      <td>111.920304</td>\n",
       "    </tr>\n",
       "    <tr>\n",
       "      <th>2</th>\n",
       "      <td>Private room</td>\n",
       "      <td>111.203933</td>\n",
       "    </tr>\n",
       "  </tbody>\n",
       "</table>\n",
       "</div>"
      ],
      "text/plain": [
       "         room_type  availability_365\n",
       "0      Shared room        162.000862\n",
       "1  Entire home/apt        111.920304\n",
       "2     Private room        111.203933"
      ]
     },
     "metadata": {},
     "output_type": "display_data"
    }
   ],
   "source": [
    "df22 = data[['availability_365', 'room_type']].groupby('room_type').mean() \\\n",
    "                                                            .sort_values('availability_365', ascending=False)\\\n",
    "                                                            .reset_index()\n",
    "\n",
    "typemoreavailable = df22[df22['availability_365'] == df22['availability_365'].max()]['room_type'].min()\n",
    "display(typemoreavailable == 'Private room')\n",
    "\n",
    "display(df22)"
   ]
  },
  {
   "cell_type": "markdown",
   "id": "724d3c82",
   "metadata": {
    "heading_collapsed": true,
    "hidden": true,
    "id": "724d3c82"
   },
   "source": [
    "##### 23. Qual a categoria de imóvel que fica mais tempo disponível, na média, para locação?"
   ]
  },
  {
   "cell_type": "code",
   "execution_count": 261,
   "id": "32205009",
   "metadata": {
    "ExecuteTime": {
     "end_time": "2022-11-21T18:52:01.535171Z",
     "start_time": "2022-11-21T18:52:01.511231Z"
    },
    "hidden": true
   },
   "outputs": [
    {
     "data": {
      "text/plain": [
       "'Shared room'"
      ]
     },
     "execution_count": 261,
     "metadata": {},
     "output_type": "execute_result"
    }
   ],
   "source": [
    "df23 = data[['availability_365', 'room_type']].groupby('room_type').mean()\\\n",
    "                                                            .sort_values('availability_365', ascending=False) \\\n",
    "                                                            .reset_index()\n",
    "\n",
    "df23[df23['availability_365'] == df23['availability_365'].max()]['room_type'].min()"
   ]
  },
  {
   "cell_type": "markdown",
   "id": "3205c88c",
   "metadata": {
    "heading_collapsed": true,
    "hidden": true,
    "id": "3205c88c"
   },
   "source": [
    "##### 24. A categoria de imóvel que fica menos tempo disponível, na média, para locação é a categoria que possuí, em média, o menor aluguel (diária)?"
   ]
  },
  {
   "cell_type": "code",
   "execution_count": 337,
   "id": "a6b19656",
   "metadata": {
    "ExecuteTime": {
     "end_time": "2022-11-21T19:37:20.647787Z",
     "start_time": "2022-11-21T19:37:20.623245Z"
    },
    "hidden": true,
    "id": "a6b19656"
   },
   "outputs": [
    {
     "data": {
      "text/plain": [
       "False"
      ]
     },
     "metadata": {},
     "output_type": "display_data"
    },
    {
     "data": {
      "text/html": [
       "<div>\n",
       "<style scoped>\n",
       "    .dataframe tbody tr th:only-of-type {\n",
       "        vertical-align: middle;\n",
       "    }\n",
       "\n",
       "    .dataframe tbody tr th {\n",
       "        vertical-align: top;\n",
       "    }\n",
       "\n",
       "    .dataframe thead th {\n",
       "        text-align: right;\n",
       "    }\n",
       "</style>\n",
       "<table border=\"1\" class=\"dataframe\">\n",
       "  <thead>\n",
       "    <tr style=\"text-align: right;\">\n",
       "      <th></th>\n",
       "      <th>room_type</th>\n",
       "      <th>availability_365</th>\n",
       "      <th>price</th>\n",
       "    </tr>\n",
       "  </thead>\n",
       "  <tbody>\n",
       "    <tr>\n",
       "      <th>0</th>\n",
       "      <td>Shared room</td>\n",
       "      <td>162.000862</td>\n",
       "      <td>70.127586</td>\n",
       "    </tr>\n",
       "    <tr>\n",
       "      <th>1</th>\n",
       "      <td>Entire home/apt</td>\n",
       "      <td>111.920304</td>\n",
       "      <td>211.794246</td>\n",
       "    </tr>\n",
       "    <tr>\n",
       "      <th>2</th>\n",
       "      <td>Private room</td>\n",
       "      <td>111.203933</td>\n",
       "      <td>89.780973</td>\n",
       "    </tr>\n",
       "  </tbody>\n",
       "</table>\n",
       "</div>"
      ],
      "text/plain": [
       "         room_type  availability_365       price\n",
       "0      Shared room        162.000862   70.127586\n",
       "1  Entire home/apt        111.920304  211.794246\n",
       "2     Private room        111.203933   89.780973"
      ]
     },
     "metadata": {},
     "output_type": "display_data"
    }
   ],
   "source": [
    "df24_1 = data[['availability_365', 'room_type']].groupby('room_type').mean()\\\n",
    "                                                            .sort_values('availability_365', ascending=False) \\\n",
    "                                                            .reset_index()\n",
    "\n",
    "typelessavailable = df24_1[df24_1['availability_365'] == df24_1['availability_365'].min()]['room_type'].min()\n",
    "\n",
    "df24_2 = data[['price', 'room_type']].groupby('room_type').mean()\\\n",
    "                                                            .sort_values('price', ascending=False) \\\n",
    "                                                            .reset_index()\n",
    "\n",
    "typelessexpansive = df24_2[df24_2['price'] == df24_2['price'].min()]['room_type'].min()\n",
    "\n",
    "\n",
    "display(typelessavailable == typelessexpansive)\n",
    "display(pd.merge(df24_1, df24_2, how='inner', on='room_type'))"
   ]
  },
  {
   "cell_type": "markdown",
   "id": "6a8fa8e3",
   "metadata": {
    "heading_collapsed": true,
    "hidden": true,
    "id": "6a8fa8e3"
   },
   "source": [
    "##### 25. A categoria de imóvel `Entire home/apt` é a categoria que possui, na média, o maior valor de aluguel?"
   ]
  },
  {
   "cell_type": "code",
   "execution_count": 354,
   "id": "c2180ebb",
   "metadata": {
    "ExecuteTime": {
     "end_time": "2022-11-21T19:52:24.229962Z",
     "start_time": "2022-11-21T19:52:24.201638Z"
    },
    "hidden": true,
    "id": "c2180ebb"
   },
   "outputs": [
    {
     "data": {
      "text/plain": [
       "True"
      ]
     },
     "metadata": {},
     "output_type": "display_data"
    },
    {
     "data": {
      "text/html": [
       "<div>\n",
       "<style scoped>\n",
       "    .dataframe tbody tr th:only-of-type {\n",
       "        vertical-align: middle;\n",
       "    }\n",
       "\n",
       "    .dataframe tbody tr th {\n",
       "        vertical-align: top;\n",
       "    }\n",
       "\n",
       "    .dataframe thead th {\n",
       "        text-align: right;\n",
       "    }\n",
       "</style>\n",
       "<table border=\"1\" class=\"dataframe\">\n",
       "  <thead>\n",
       "    <tr style=\"text-align: right;\">\n",
       "      <th></th>\n",
       "      <th>room_type</th>\n",
       "      <th>price</th>\n",
       "    </tr>\n",
       "  </thead>\n",
       "  <tbody>\n",
       "    <tr>\n",
       "      <th>0</th>\n",
       "      <td>Entire home/apt</td>\n",
       "      <td>211.794246</td>\n",
       "    </tr>\n",
       "    <tr>\n",
       "      <th>1</th>\n",
       "      <td>Private room</td>\n",
       "      <td>89.780973</td>\n",
       "    </tr>\n",
       "    <tr>\n",
       "      <th>2</th>\n",
       "      <td>Shared room</td>\n",
       "      <td>70.127586</td>\n",
       "    </tr>\n",
       "  </tbody>\n",
       "</table>\n",
       "</div>"
      ],
      "text/plain": [
       "         room_type       price\n",
       "0  Entire home/apt  211.794246\n",
       "1     Private room   89.780973\n",
       "2      Shared room   70.127586"
      ]
     },
     "metadata": {},
     "output_type": "display_data"
    }
   ],
   "source": [
    "df25 = data[['price', 'room_type']].groupby('room_type').mean()\\\n",
    "                                                            .sort_values('price', ascending=False) \\\n",
    "                                                            .reset_index()\n",
    "\n",
    "typemoreexpansive = df25[df25['price'] == df25['price'].max()]['room_type'].min()\n",
    "\n",
    "display(typemoreexpansive == 'Entire home/apt')\n",
    "display(df25)"
   ]
  },
  {
   "cell_type": "markdown",
   "id": "5bbe1d09",
   "metadata": {
    "heading_collapsed": true,
    "hidden": true,
    "id": "5bbe1d09"
   },
   "source": [
    "##### 26. A categoria de imóvel `Entire home/apt` é a categoria que possui, na média, menos locações?"
   ]
  },
  {
   "cell_type": "code",
   "execution_count": 335,
   "id": "d106fb88",
   "metadata": {
    "ExecuteTime": {
     "end_time": "2022-11-21T19:37:15.037775Z",
     "start_time": "2022-11-21T19:37:15.023426Z"
    },
    "hidden": true,
    "id": "d106fb88"
   },
   "outputs": [
    {
     "data": {
      "text/plain": [
       "False"
      ]
     },
     "metadata": {},
     "output_type": "display_data"
    },
    {
     "data": {
      "text/html": [
       "<div>\n",
       "<style scoped>\n",
       "    .dataframe tbody tr th:only-of-type {\n",
       "        vertical-align: middle;\n",
       "    }\n",
       "\n",
       "    .dataframe tbody tr th {\n",
       "        vertical-align: top;\n",
       "    }\n",
       "\n",
       "    .dataframe thead th {\n",
       "        text-align: right;\n",
       "    }\n",
       "</style>\n",
       "<table border=\"1\" class=\"dataframe\">\n",
       "  <thead>\n",
       "    <tr style=\"text-align: right;\">\n",
       "      <th></th>\n",
       "      <th>room_type</th>\n",
       "      <th>number_of_reviews</th>\n",
       "    </tr>\n",
       "  </thead>\n",
       "  <tbody>\n",
       "    <tr>\n",
       "      <th>0</th>\n",
       "      <td>Private room</td>\n",
       "      <td>24.112962</td>\n",
       "    </tr>\n",
       "    <tr>\n",
       "      <th>1</th>\n",
       "      <td>Entire home/apt</td>\n",
       "      <td>22.842418</td>\n",
       "    </tr>\n",
       "    <tr>\n",
       "      <th>2</th>\n",
       "      <td>Shared room</td>\n",
       "      <td>16.600000</td>\n",
       "    </tr>\n",
       "  </tbody>\n",
       "</table>\n",
       "</div>"
      ],
      "text/plain": [
       "         room_type  number_of_reviews\n",
       "0     Private room          24.112962\n",
       "1  Entire home/apt          22.842418\n",
       "2      Shared room          16.600000"
      ]
     },
     "metadata": {},
     "output_type": "display_data"
    }
   ],
   "source": [
    "df26 = data[['number_of_reviews', 'room_type']].groupby('room_type').mean()\\\n",
    "                                                             .sort_values('number_of_reviews', ascending=False)\\\n",
    "                                                             .reset_index()\n",
    "\n",
    "typelesslocated = df26[df26['number_of_reviews'] == df26['number_of_reviews'].min()]['room_type'].min()\n",
    "\n",
    "display(typelesslocated == 'Entire home/apt')\n",
    "display(df26)"
   ]
  },
  {
   "cell_type": "markdown",
   "id": "436ac841",
   "metadata": {
    "heading_collapsed": true,
    "hidden": true,
    "id": "436ac841"
   },
   "source": [
    "##### 27. A categoria de imóvel `Private Room` na região de Manhattan, na média, é a categoria que possui o menor valor de locação, comparado as outras categorias na mesma região? "
   ]
  },
  {
   "cell_type": "code",
   "execution_count": 334,
   "id": "0ce74590",
   "metadata": {
    "ExecuteTime": {
     "end_time": "2022-11-21T19:37:10.993918Z",
     "start_time": "2022-11-21T19:37:10.975856Z"
    },
    "hidden": true,
    "id": "0ce74590"
   },
   "outputs": [
    {
     "data": {
      "text/plain": [
       "False"
      ]
     },
     "metadata": {},
     "output_type": "display_data"
    },
    {
     "data": {
      "text/html": [
       "<div>\n",
       "<style scoped>\n",
       "    .dataframe tbody tr th:only-of-type {\n",
       "        vertical-align: middle;\n",
       "    }\n",
       "\n",
       "    .dataframe tbody tr th {\n",
       "        vertical-align: top;\n",
       "    }\n",
       "\n",
       "    .dataframe thead th {\n",
       "        text-align: right;\n",
       "    }\n",
       "</style>\n",
       "<table border=\"1\" class=\"dataframe\">\n",
       "  <thead>\n",
       "    <tr style=\"text-align: right;\">\n",
       "      <th></th>\n",
       "      <th>room_type</th>\n",
       "      <th>price</th>\n",
       "    </tr>\n",
       "  </thead>\n",
       "  <tbody>\n",
       "    <tr>\n",
       "      <th>0</th>\n",
       "      <td>Entire home/apt</td>\n",
       "      <td>249.239109</td>\n",
       "    </tr>\n",
       "    <tr>\n",
       "      <th>1</th>\n",
       "      <td>Private room</td>\n",
       "      <td>116.776622</td>\n",
       "    </tr>\n",
       "    <tr>\n",
       "      <th>2</th>\n",
       "      <td>Shared room</td>\n",
       "      <td>88.977083</td>\n",
       "    </tr>\n",
       "  </tbody>\n",
       "</table>\n",
       "</div>"
      ],
      "text/plain": [
       "         room_type       price\n",
       "0  Entire home/apt  249.239109\n",
       "1     Private room  116.776622\n",
       "2      Shared room   88.977083"
      ]
     },
     "metadata": {},
     "output_type": "display_data"
    }
   ],
   "source": [
    "df27 = data[data['neighbourhood_group'] == 'Manhattan']\\\n",
    "                                        [['price', 'room_type']].groupby('room_type') \\\n",
    "                                        .mean().sort_values('price', ascending=False) \\\n",
    "                                        .reset_index()\n",
    "\n",
    "typelessmeanpricemanhattan = df27[df27['price'] == df27['price'].min()]['room_type'].min()\n",
    "\n",
    "display(typelessmeanpricemanhattan == 'Private room')\n",
    "display(df27)"
   ]
  },
  {
   "cell_type": "markdown",
   "id": "774378e7",
   "metadata": {
    "heading_collapsed": true,
    "hidden": true,
    "id": "774378e7"
   },
   "source": [
    "##### 28. Qual a região que possui a maior quantidade de imóveis?"
   ]
  },
  {
   "cell_type": "code",
   "execution_count": 333,
   "id": "94a14082",
   "metadata": {
    "ExecuteTime": {
     "end_time": "2022-11-21T19:37:07.796714Z",
     "start_time": "2022-11-21T19:37:07.777033Z"
    },
    "hidden": true,
    "id": "94a14082"
   },
   "outputs": [
    {
     "data": {
      "text/plain": [
       "'Manhattan'"
      ]
     },
     "metadata": {},
     "output_type": "display_data"
    },
    {
     "data": {
      "text/html": [
       "<div>\n",
       "<style scoped>\n",
       "    .dataframe tbody tr th:only-of-type {\n",
       "        vertical-align: middle;\n",
       "    }\n",
       "\n",
       "    .dataframe tbody tr th {\n",
       "        vertical-align: top;\n",
       "    }\n",
       "\n",
       "    .dataframe thead th {\n",
       "        text-align: right;\n",
       "    }\n",
       "</style>\n",
       "<table border=\"1\" class=\"dataframe\">\n",
       "  <thead>\n",
       "    <tr style=\"text-align: right;\">\n",
       "      <th></th>\n",
       "      <th>neighbourhood_group</th>\n",
       "      <th>id</th>\n",
       "    </tr>\n",
       "  </thead>\n",
       "  <tbody>\n",
       "    <tr>\n",
       "      <th>0</th>\n",
       "      <td>Manhattan</td>\n",
       "      <td>21661</td>\n",
       "    </tr>\n",
       "    <tr>\n",
       "      <th>1</th>\n",
       "      <td>Brooklyn</td>\n",
       "      <td>20104</td>\n",
       "    </tr>\n",
       "    <tr>\n",
       "      <th>2</th>\n",
       "      <td>Queens</td>\n",
       "      <td>5666</td>\n",
       "    </tr>\n",
       "    <tr>\n",
       "      <th>3</th>\n",
       "      <td>Bronx</td>\n",
       "      <td>1091</td>\n",
       "    </tr>\n",
       "    <tr>\n",
       "      <th>4</th>\n",
       "      <td>Staten Island</td>\n",
       "      <td>373</td>\n",
       "    </tr>\n",
       "  </tbody>\n",
       "</table>\n",
       "</div>"
      ],
      "text/plain": [
       "  neighbourhood_group     id\n",
       "0           Manhattan  21661\n",
       "1            Brooklyn  20104\n",
       "2              Queens   5666\n",
       "3               Bronx   1091\n",
       "4       Staten Island    373"
      ]
     },
     "metadata": {},
     "output_type": "display_data"
    }
   ],
   "source": [
    "df28 = data[['id', 'neighbourhood_group']].groupby('neighbourhood_group').count().sort_values('id', ascending=False)\\\n",
    "                                                                         .reset_index()\n",
    "\n",
    "display(df28[df28['id'] == df28['id'].max()]['neighbourhood_group'].min())\n",
    "display(df28)"
   ]
  },
  {
   "cell_type": "markdown",
   "id": "53abcb8d",
   "metadata": {
    "heading_collapsed": true,
    "hidden": true,
    "id": "53abcb8d"
   },
   "source": [
    "##### 29. Qual a região que possui a menor quantidade de imóveis?"
   ]
  },
  {
   "cell_type": "code",
   "execution_count": 355,
   "id": "db39c923",
   "metadata": {
    "ExecuteTime": {
     "end_time": "2022-11-21T19:52:53.841393Z",
     "start_time": "2022-11-21T19:52:53.816916Z"
    },
    "hidden": true,
    "id": "db39c923"
   },
   "outputs": [
    {
     "data": {
      "text/plain": [
       "'Staten Island'"
      ]
     },
     "metadata": {},
     "output_type": "display_data"
    },
    {
     "data": {
      "text/html": [
       "<div>\n",
       "<style scoped>\n",
       "    .dataframe tbody tr th:only-of-type {\n",
       "        vertical-align: middle;\n",
       "    }\n",
       "\n",
       "    .dataframe tbody tr th {\n",
       "        vertical-align: top;\n",
       "    }\n",
       "\n",
       "    .dataframe thead th {\n",
       "        text-align: right;\n",
       "    }\n",
       "</style>\n",
       "<table border=\"1\" class=\"dataframe\">\n",
       "  <thead>\n",
       "    <tr style=\"text-align: right;\">\n",
       "      <th></th>\n",
       "      <th>neighbourhood_group</th>\n",
       "      <th>id</th>\n",
       "    </tr>\n",
       "  </thead>\n",
       "  <tbody>\n",
       "    <tr>\n",
       "      <th>0</th>\n",
       "      <td>Manhattan</td>\n",
       "      <td>21661</td>\n",
       "    </tr>\n",
       "    <tr>\n",
       "      <th>1</th>\n",
       "      <td>Brooklyn</td>\n",
       "      <td>20104</td>\n",
       "    </tr>\n",
       "    <tr>\n",
       "      <th>2</th>\n",
       "      <td>Queens</td>\n",
       "      <td>5666</td>\n",
       "    </tr>\n",
       "    <tr>\n",
       "      <th>3</th>\n",
       "      <td>Bronx</td>\n",
       "      <td>1091</td>\n",
       "    </tr>\n",
       "    <tr>\n",
       "      <th>4</th>\n",
       "      <td>Staten Island</td>\n",
       "      <td>373</td>\n",
       "    </tr>\n",
       "  </tbody>\n",
       "</table>\n",
       "</div>"
      ],
      "text/plain": [
       "  neighbourhood_group     id\n",
       "0           Manhattan  21661\n",
       "1            Brooklyn  20104\n",
       "2              Queens   5666\n",
       "3               Bronx   1091\n",
       "4       Staten Island    373"
      ]
     },
     "metadata": {},
     "output_type": "display_data"
    }
   ],
   "source": [
    "df29 = data[['id', 'neighbourhood_group']].groupby('neighbourhood_group').count().sort_values('id', ascending=False)\\\n",
    "                                                                         .reset_index()\n",
    "\n",
    "display(df29[df29['id'] == df29['id'].min()]['neighbourhood_group'].min())\n",
    "display(df29)"
   ]
  },
  {
   "cell_type": "markdown",
   "id": "c1ef0c73",
   "metadata": {
    "heading_collapsed": true,
    "hidden": true,
    "id": "c1ef0c73"
   },
   "source": [
    "##### 30. A região que possui a maior quantidade de imóveis é também a região que possui os imóveis mais locados?"
   ]
  },
  {
   "cell_type": "code",
   "execution_count": 351,
   "id": "8e80f4a1",
   "metadata": {
    "ExecuteTime": {
     "end_time": "2022-11-21T19:45:13.721875Z",
     "start_time": "2022-11-21T19:45:13.696757Z"
    },
    "hidden": true,
    "id": "8e80f4a1"
   },
   "outputs": [
    {
     "data": {
      "text/plain": [
       "False"
      ]
     },
     "metadata": {},
     "output_type": "display_data"
    },
    {
     "data": {
      "text/html": [
       "<div>\n",
       "<style scoped>\n",
       "    .dataframe tbody tr th:only-of-type {\n",
       "        vertical-align: middle;\n",
       "    }\n",
       "\n",
       "    .dataframe tbody tr th {\n",
       "        vertical-align: top;\n",
       "    }\n",
       "\n",
       "    .dataframe thead th {\n",
       "        text-align: right;\n",
       "    }\n",
       "</style>\n",
       "<table border=\"1\" class=\"dataframe\">\n",
       "  <thead>\n",
       "    <tr style=\"text-align: right;\">\n",
       "      <th></th>\n",
       "      <th>neighbourhood_group</th>\n",
       "      <th>id</th>\n",
       "      <th>number_of_reviews</th>\n",
       "    </tr>\n",
       "  </thead>\n",
       "  <tbody>\n",
       "    <tr>\n",
       "      <th>0</th>\n",
       "      <td>Manhattan</td>\n",
       "      <td>21661</td>\n",
       "      <td>454569</td>\n",
       "    </tr>\n",
       "    <tr>\n",
       "      <th>1</th>\n",
       "      <td>Brooklyn</td>\n",
       "      <td>20104</td>\n",
       "      <td>486574</td>\n",
       "    </tr>\n",
       "    <tr>\n",
       "      <th>2</th>\n",
       "      <td>Queens</td>\n",
       "      <td>5666</td>\n",
       "      <td>156950</td>\n",
       "    </tr>\n",
       "    <tr>\n",
       "      <th>3</th>\n",
       "      <td>Bronx</td>\n",
       "      <td>1091</td>\n",
       "      <td>28371</td>\n",
       "    </tr>\n",
       "    <tr>\n",
       "      <th>4</th>\n",
       "      <td>Staten Island</td>\n",
       "      <td>373</td>\n",
       "      <td>11541</td>\n",
       "    </tr>\n",
       "  </tbody>\n",
       "</table>\n",
       "</div>"
      ],
      "text/plain": [
       "  neighbourhood_group     id  number_of_reviews\n",
       "0           Manhattan  21661             454569\n",
       "1            Brooklyn  20104             486574\n",
       "2              Queens   5666             156950\n",
       "3               Bronx   1091              28371\n",
       "4       Staten Island    373              11541"
      ]
     },
     "metadata": {},
     "output_type": "display_data"
    }
   ],
   "source": [
    "df30_1 = data[['id', 'neighbourhood_group']].groupby('neighbourhood_group').count().sort_values('id', ascending=False)\\\n",
    "                                                                         .reset_index()\n",
    "\n",
    "regionmorehouses = df30_1[df30_1['id'] == df30_1['id'].max()]['neighbourhood_group'].min()\n",
    "\n",
    "df30_2 = data[['number_of_reviews', 'neighbourhood_group']].groupby('neighbourhood_group').sum()\\\n",
    "                                                         .sort_values('number_of_reviews', ascending=False)\\\n",
    "                                                         .reset_index()\n",
    "\n",
    "regionmorelocated = df30_2[df30_2['number_of_reviews'] == df30_2['number_of_reviews'].max()]['neighbourhood_group'].min()\n",
    "\n",
    "\n",
    "display(regionmorehouses == regionmorelocated)\n",
    "display(pd.merge(df30_1, df30_2, on='neighbourhood_group', how='inner'))"
   ]
  },
  {
   "cell_type": "markdown",
   "id": "80f47100",
   "metadata": {
    "heading_collapsed": true,
    "hidden": true,
    "id": "80f47100"
   },
   "source": [
    "##### 31. Qual a região que possui a menor quantidade de imóveis locados dentro da base de dados?"
   ]
  },
  {
   "cell_type": "code",
   "execution_count": 353,
   "id": "694a510b",
   "metadata": {
    "ExecuteTime": {
     "end_time": "2022-11-21T19:47:13.001481Z",
     "start_time": "2022-11-21T19:47:12.983959Z"
    },
    "hidden": true,
    "id": "694a510b"
   },
   "outputs": [
    {
     "data": {
      "text/plain": [
       "'Staten Island'"
      ]
     },
     "execution_count": 353,
     "metadata": {},
     "output_type": "execute_result"
    }
   ],
   "source": [
    "df31 = data[['number_of_reviews', 'neighbourhood_group']].groupby('neighbourhood_group').sum()\\\n",
    "                                                         .sort_values('number_of_reviews', ascending=False)\\\n",
    "                                                         .reset_index()\n",
    "\n",
    "df31[df31['number_of_reviews'] == df31['number_of_reviews'].min()]['neighbourhood_group'].min()"
   ]
  },
  {
   "cell_type": "markdown",
   "id": "23e9f409",
   "metadata": {
    "heading_collapsed": true,
    "hidden": true,
    "id": "23e9f409"
   },
   "source": [
    "##### 32. A região de `Manhattan` é a região que possui, na média, os maiores aluguéis (diárias) dentro da base de dados?"
   ]
  },
  {
   "cell_type": "code",
   "execution_count": 362,
   "id": "edf07278",
   "metadata": {
    "ExecuteTime": {
     "end_time": "2022-11-21T19:56:22.379687Z",
     "start_time": "2022-11-21T19:56:22.361698Z"
    },
    "hidden": true,
    "id": "edf07278"
   },
   "outputs": [
    {
     "data": {
      "text/plain": [
       "True"
      ]
     },
     "metadata": {},
     "output_type": "display_data"
    },
    {
     "data": {
      "text/html": [
       "<div>\n",
       "<style scoped>\n",
       "    .dataframe tbody tr th:only-of-type {\n",
       "        vertical-align: middle;\n",
       "    }\n",
       "\n",
       "    .dataframe tbody tr th {\n",
       "        vertical-align: top;\n",
       "    }\n",
       "\n",
       "    .dataframe thead th {\n",
       "        text-align: right;\n",
       "    }\n",
       "</style>\n",
       "<table border=\"1\" class=\"dataframe\">\n",
       "  <thead>\n",
       "    <tr style=\"text-align: right;\">\n",
       "      <th></th>\n",
       "      <th>neighbourhood_group</th>\n",
       "      <th>price</th>\n",
       "    </tr>\n",
       "  </thead>\n",
       "  <tbody>\n",
       "    <tr>\n",
       "      <th>0</th>\n",
       "      <td>Manhattan</td>\n",
       "      <td>196.875814</td>\n",
       "    </tr>\n",
       "    <tr>\n",
       "      <th>1</th>\n",
       "      <td>Brooklyn</td>\n",
       "      <td>124.383207</td>\n",
       "    </tr>\n",
       "    <tr>\n",
       "      <th>2</th>\n",
       "      <td>Staten Island</td>\n",
       "      <td>114.812332</td>\n",
       "    </tr>\n",
       "    <tr>\n",
       "      <th>3</th>\n",
       "      <td>Queens</td>\n",
       "      <td>99.517649</td>\n",
       "    </tr>\n",
       "    <tr>\n",
       "      <th>4</th>\n",
       "      <td>Bronx</td>\n",
       "      <td>87.496792</td>\n",
       "    </tr>\n",
       "  </tbody>\n",
       "</table>\n",
       "</div>"
      ],
      "text/plain": [
       "  neighbourhood_group       price\n",
       "0           Manhattan  196.875814\n",
       "1            Brooklyn  124.383207\n",
       "2       Staten Island  114.812332\n",
       "3              Queens   99.517649\n",
       "4               Bronx   87.496792"
      ]
     },
     "metadata": {},
     "output_type": "display_data"
    }
   ],
   "source": [
    "df32 = data[['price','neighbourhood_group']].groupby('neighbourhood_group').mean()\\\n",
    "                                            .sort_values('price', ascending=False)\\\n",
    "                                            .reset_index()\n",
    "\n",
    "regionmaxmeanprice = df32[df32['price'] == df32['price'].max()]['neighbourhood_group'].min()\n",
    "\n",
    "display(regionmaxmeanprice == 'Manhattan')\n",
    "display(df32)"
   ]
  },
  {
   "cell_type": "markdown",
   "id": "6fa1634a",
   "metadata": {
    "heading_collapsed": true,
    "hidden": true,
    "id": "6fa1634a"
   },
   "source": [
    "##### 33. A região de `Queens` é a região que possui, na média, os menores aluguéis (diárias) dentro da base de dados?"
   ]
  },
  {
   "cell_type": "code",
   "execution_count": 363,
   "id": "1e6c313e",
   "metadata": {
    "ExecuteTime": {
     "end_time": "2022-11-21T20:00:28.103465Z",
     "start_time": "2022-11-21T20:00:28.082933Z"
    },
    "hidden": true,
    "id": "1e6c313e"
   },
   "outputs": [
    {
     "data": {
      "text/plain": [
       "False"
      ]
     },
     "metadata": {},
     "output_type": "display_data"
    },
    {
     "data": {
      "text/html": [
       "<div>\n",
       "<style scoped>\n",
       "    .dataframe tbody tr th:only-of-type {\n",
       "        vertical-align: middle;\n",
       "    }\n",
       "\n",
       "    .dataframe tbody tr th {\n",
       "        vertical-align: top;\n",
       "    }\n",
       "\n",
       "    .dataframe thead th {\n",
       "        text-align: right;\n",
       "    }\n",
       "</style>\n",
       "<table border=\"1\" class=\"dataframe\">\n",
       "  <thead>\n",
       "    <tr style=\"text-align: right;\">\n",
       "      <th></th>\n",
       "      <th>neighbourhood_group</th>\n",
       "      <th>price</th>\n",
       "    </tr>\n",
       "  </thead>\n",
       "  <tbody>\n",
       "    <tr>\n",
       "      <th>0</th>\n",
       "      <td>Manhattan</td>\n",
       "      <td>196.875814</td>\n",
       "    </tr>\n",
       "    <tr>\n",
       "      <th>1</th>\n",
       "      <td>Brooklyn</td>\n",
       "      <td>124.383207</td>\n",
       "    </tr>\n",
       "    <tr>\n",
       "      <th>2</th>\n",
       "      <td>Staten Island</td>\n",
       "      <td>114.812332</td>\n",
       "    </tr>\n",
       "    <tr>\n",
       "      <th>3</th>\n",
       "      <td>Queens</td>\n",
       "      <td>99.517649</td>\n",
       "    </tr>\n",
       "    <tr>\n",
       "      <th>4</th>\n",
       "      <td>Bronx</td>\n",
       "      <td>87.496792</td>\n",
       "    </tr>\n",
       "  </tbody>\n",
       "</table>\n",
       "</div>"
      ],
      "text/plain": [
       "  neighbourhood_group       price\n",
       "0           Manhattan  196.875814\n",
       "1            Brooklyn  124.383207\n",
       "2       Staten Island  114.812332\n",
       "3              Queens   99.517649\n",
       "4               Bronx   87.496792"
      ]
     },
     "metadata": {},
     "output_type": "display_data"
    }
   ],
   "source": [
    "df33 = data[['price','neighbourhood_group']].groupby('neighbourhood_group').mean()\\\n",
    "                                            .sort_values('price', ascending=False)\\\n",
    "                                            .reset_index()\n",
    "\n",
    "regionminmeanprice = df33[df33['price'] == df33['price'].min()]['neighbourhood_group'].min()\n",
    "\n",
    "display(regionminmeanprice == 'Queens')\n",
    "display(df33)"
   ]
  },
  {
   "cell_type": "markdown",
   "id": "071bf3fb",
   "metadata": {
    "heading_collapsed": true,
    "hidden": true,
    "id": "071bf3fb"
   },
   "source": [
    "##### 34. Qual a região que possui, na média, os imóveis com os menores aluguéis dentro da base de dados?"
   ]
  },
  {
   "cell_type": "code",
   "execution_count": 364,
   "id": "ab307750",
   "metadata": {
    "ExecuteTime": {
     "end_time": "2022-11-21T20:02:04.367563Z",
     "start_time": "2022-11-21T20:02:04.352293Z"
    },
    "hidden": true,
    "id": "ab307750"
   },
   "outputs": [
    {
     "data": {
      "text/plain": [
       "'Bronx'"
      ]
     },
     "metadata": {},
     "output_type": "display_data"
    }
   ],
   "source": [
    "df34 = data[['price','neighbourhood_group']].groupby('neighbourhood_group').mean()\\\n",
    "                                            .sort_values('price', ascending=False)\\\n",
    "                                            .reset_index()\n",
    "\n",
    "display(df34[df34['price'] == df34['price'].min()]['neighbourhood_group'].min())"
   ]
  },
  {
   "cell_type": "markdown",
   "id": "3118d788",
   "metadata": {
    "heading_collapsed": true,
    "hidden": true,
    "id": "3118d788"
   },
   "source": [
    "##### 35. Qual a região que possui os imóveis que ficam, na média, menos tempo disponíveis para aluguel? Ou seja, são alugados mais rápidos na média?"
   ]
  },
  {
   "cell_type": "code",
   "execution_count": 375,
   "id": "ca0d10b6",
   "metadata": {
    "ExecuteTime": {
     "end_time": "2022-11-21T20:10:35.636635Z",
     "start_time": "2022-11-21T20:10:35.608560Z"
    },
    "hidden": true
   },
   "outputs": [
    {
     "data": {
      "text/plain": [
       "'Brooklyn'"
      ]
     },
     "metadata": {},
     "output_type": "display_data"
    },
    {
     "data": {
      "text/html": [
       "<div>\n",
       "<style scoped>\n",
       "    .dataframe tbody tr th:only-of-type {\n",
       "        vertical-align: middle;\n",
       "    }\n",
       "\n",
       "    .dataframe tbody tr th {\n",
       "        vertical-align: top;\n",
       "    }\n",
       "\n",
       "    .dataframe thead th {\n",
       "        text-align: right;\n",
       "    }\n",
       "</style>\n",
       "<table border=\"1\" class=\"dataframe\">\n",
       "  <thead>\n",
       "    <tr style=\"text-align: right;\">\n",
       "      <th></th>\n",
       "      <th>neighbourhood_group</th>\n",
       "      <th>availability_365</th>\n",
       "    </tr>\n",
       "  </thead>\n",
       "  <tbody>\n",
       "    <tr>\n",
       "      <th>0</th>\n",
       "      <td>Staten Island</td>\n",
       "      <td>199.678284</td>\n",
       "    </tr>\n",
       "    <tr>\n",
       "      <th>1</th>\n",
       "      <td>Bronx</td>\n",
       "      <td>165.758937</td>\n",
       "    </tr>\n",
       "    <tr>\n",
       "      <th>2</th>\n",
       "      <td>Queens</td>\n",
       "      <td>144.451818</td>\n",
       "    </tr>\n",
       "    <tr>\n",
       "      <th>3</th>\n",
       "      <td>Manhattan</td>\n",
       "      <td>111.979410</td>\n",
       "    </tr>\n",
       "    <tr>\n",
       "      <th>4</th>\n",
       "      <td>Brooklyn</td>\n",
       "      <td>100.232292</td>\n",
       "    </tr>\n",
       "  </tbody>\n",
       "</table>\n",
       "</div>"
      ],
      "text/plain": [
       "  neighbourhood_group  availability_365\n",
       "0       Staten Island        199.678284\n",
       "1               Bronx        165.758937\n",
       "2              Queens        144.451818\n",
       "3           Manhattan        111.979410\n",
       "4            Brooklyn        100.232292"
      ]
     },
     "metadata": {},
     "output_type": "display_data"
    }
   ],
   "source": [
    "df35 = data[['availability_365', 'neighbourhood_group']].groupby('neighbourhood_group').mean() \\\n",
    "                                                        .sort_values('availability_365', ascending=False) \\\n",
    "                                                        .reset_index()\n",
    "\n",
    "display(df35[df35['availability_365'] == df35['availability_365'].min()]['neighbourhood_group'].min())\n",
    "display(df35)"
   ]
  },
  {
   "cell_type": "markdown",
   "id": "76defbd1",
   "metadata": {
    "heading_collapsed": true,
    "hidden": true,
    "id": "76defbd1"
   },
   "source": [
    "##### 36. Qual o bairro possui a maior quantidade de imóveis ativos para locação?"
   ]
  },
  {
   "cell_type": "code",
   "execution_count": 383,
   "id": "5deafbfd",
   "metadata": {
    "ExecuteTime": {
     "end_time": "2022-11-21T20:14:44.084694Z",
     "start_time": "2022-11-21T20:14:44.064713Z"
    },
    "hidden": true,
    "id": "5deafbfd"
   },
   "outputs": [
    {
     "data": {
      "text/plain": [
       "'Bedford-Stuyvesant'"
      ]
     },
     "metadata": {},
     "output_type": "display_data"
    },
    {
     "data": {
      "text/html": [
       "<div>\n",
       "<style scoped>\n",
       "    .dataframe tbody tr th:only-of-type {\n",
       "        vertical-align: middle;\n",
       "    }\n",
       "\n",
       "    .dataframe tbody tr th {\n",
       "        vertical-align: top;\n",
       "    }\n",
       "\n",
       "    .dataframe thead th {\n",
       "        text-align: right;\n",
       "    }\n",
       "</style>\n",
       "<table border=\"1\" class=\"dataframe\">\n",
       "  <thead>\n",
       "    <tr style=\"text-align: right;\">\n",
       "      <th></th>\n",
       "      <th>neighbourhood</th>\n",
       "      <th>id</th>\n",
       "    </tr>\n",
       "  </thead>\n",
       "  <tbody>\n",
       "    <tr>\n",
       "      <th>0</th>\n",
       "      <td>Bedford-Stuyvesant</td>\n",
       "      <td>2482</td>\n",
       "    </tr>\n",
       "    <tr>\n",
       "      <th>1</th>\n",
       "      <td>Williamsburg</td>\n",
       "      <td>2052</td>\n",
       "    </tr>\n",
       "    <tr>\n",
       "      <th>2</th>\n",
       "      <td>Harlem</td>\n",
       "      <td>1734</td>\n",
       "    </tr>\n",
       "    <tr>\n",
       "      <th>3</th>\n",
       "      <td>Bushwick</td>\n",
       "      <td>1449</td>\n",
       "    </tr>\n",
       "    <tr>\n",
       "      <th>4</th>\n",
       "      <td>Hell's Kitchen</td>\n",
       "      <td>1446</td>\n",
       "    </tr>\n",
       "  </tbody>\n",
       "</table>\n",
       "</div>"
      ],
      "text/plain": [
       "        neighbourhood    id\n",
       "0  Bedford-Stuyvesant  2482\n",
       "1        Williamsburg  2052\n",
       "2              Harlem  1734\n",
       "3            Bushwick  1449\n",
       "4      Hell's Kitchen  1446"
      ]
     },
     "metadata": {},
     "output_type": "display_data"
    }
   ],
   "source": [
    "df36 = df15[['id', 'neighbourhood']].groupby('neighbourhood').count().sort_values('id', ascending=False)\\\n",
    "                                    .reset_index()\n",
    "\n",
    "display(df36[df36['id'] == df36['id'].max()]['neighbourhood'].min())\n",
    "display(df36.head(5))"
   ]
  },
  {
   "cell_type": "markdown",
   "id": "29843794",
   "metadata": {
    "heading_collapsed": true,
    "hidden": true,
    "id": "29843794"
   },
   "source": [
    "##### 37. Qual o bairro possui a menor quantidade de imóveis ativos para locação?"
   ]
  },
  {
   "cell_type": "code",
   "execution_count": 481,
   "id": "a4806389",
   "metadata": {
    "ExecuteTime": {
     "end_time": "2022-11-21T21:16:41.067422Z",
     "start_time": "2022-11-21T21:16:41.034443Z"
    },
    "hidden": true,
    "id": "a4806389",
    "scrolled": true
   },
   "outputs": [
    {
     "data": {
      "text/plain": [
       "'Silver Lake'"
      ]
     },
     "metadata": {},
     "output_type": "display_data"
    },
    {
     "data": {
      "text/html": [
       "<div>\n",
       "<style scoped>\n",
       "    .dataframe tbody tr th:only-of-type {\n",
       "        vertical-align: middle;\n",
       "    }\n",
       "\n",
       "    .dataframe tbody tr th {\n",
       "        vertical-align: top;\n",
       "    }\n",
       "\n",
       "    .dataframe thead th {\n",
       "        text-align: right;\n",
       "    }\n",
       "</style>\n",
       "<table border=\"1\" class=\"dataframe\">\n",
       "  <thead>\n",
       "    <tr style=\"text-align: right;\">\n",
       "      <th></th>\n",
       "      <th>neighbourhood</th>\n",
       "      <th>id_count</th>\n",
       "      <th>id_min</th>\n",
       "    </tr>\n",
       "  </thead>\n",
       "  <tbody>\n",
       "    <tr>\n",
       "      <th>0</th>\n",
       "      <td>Silver Lake</td>\n",
       "      <td>1</td>\n",
       "      <td>8343222</td>\n",
       "    </tr>\n",
       "    <tr>\n",
       "      <th>1</th>\n",
       "      <td>Richmondtown</td>\n",
       "      <td>1</td>\n",
       "      <td>12966225</td>\n",
       "    </tr>\n",
       "    <tr>\n",
       "      <th>2</th>\n",
       "      <td>Fort Wadsworth</td>\n",
       "      <td>1</td>\n",
       "      <td>20305160</td>\n",
       "    </tr>\n",
       "    <tr>\n",
       "      <th>3</th>\n",
       "      <td>Rossville</td>\n",
       "      <td>1</td>\n",
       "      <td>26258351</td>\n",
       "    </tr>\n",
       "    <tr>\n",
       "      <th>4</th>\n",
       "      <td>Willowbrook</td>\n",
       "      <td>1</td>\n",
       "      <td>27088022</td>\n",
       "    </tr>\n",
       "  </tbody>\n",
       "</table>\n",
       "</div>"
      ],
      "text/plain": [
       "    neighbourhood  id_count    id_min\n",
       "0     Silver Lake         1   8343222\n",
       "1    Richmondtown         1  12966225\n",
       "2  Fort Wadsworth         1  20305160\n",
       "3       Rossville         1  26258351\n",
       "4     Willowbrook         1  27088022"
      ]
     },
     "metadata": {},
     "output_type": "display_data"
    }
   ],
   "source": [
    "df37_1 = df15[['id', 'neighbourhood']].groupby('neighbourhood').count().sort_values('id', ascending=True)\\\n",
    "                                    .reset_index()\n",
    "\n",
    "df37_2 = df15[['id', 'neighbourhood']].groupby('neighbourhood').min().sort_values('id', ascending=True)\\\n",
    "                                    .reset_index()\n",
    "\n",
    "df37_3 = pd.merge(df37_1, df37_2, on='neighbourhood', how='inner', suffixes=('_count', '_min'))\n",
    "\n",
    "df37_4 = df37_3[df37_3['id_count'] == df37_3['id_count'].min()].sort_values('id_min', ascending=True).reset_index(drop=True)\n",
    "\n",
    "display(df37_4[df37_4['id_min'] == df37_4['id_min'].min()]['neighbourhood'].min())\n",
    "display(df37_4)"
   ]
  },
  {
   "cell_type": "markdown",
   "id": "78c54d15",
   "metadata": {
    "heading_collapsed": true,
    "hidden": true,
    "id": "78c54d15"
   },
   "source": [
    "##### 38. Qual bairro está o imóvel com o maior valor de aluguel?"
   ]
  },
  {
   "cell_type": "code",
   "execution_count": 120,
   "id": "0d67fdbb",
   "metadata": {
    "ExecuteTime": {
     "end_time": "2022-11-24T11:54:19.332729Z",
     "start_time": "2022-11-24T11:54:19.292842Z"
    },
    "code_folding": [],
    "hidden": true,
    "id": "0d67fdbb",
    "scrolled": false
   },
   "outputs": [
    {
     "data": {
      "text/plain": [
       "'Astoria'"
      ]
     },
     "metadata": {},
     "output_type": "display_data"
    },
    {
     "data": {
      "text/html": [
       "<div>\n",
       "<style scoped>\n",
       "    .dataframe tbody tr th:only-of-type {\n",
       "        vertical-align: middle;\n",
       "    }\n",
       "\n",
       "    .dataframe tbody tr th {\n",
       "        vertical-align: top;\n",
       "    }\n",
       "\n",
       "    .dataframe thead th {\n",
       "        text-align: right;\n",
       "    }\n",
       "</style>\n",
       "<table border=\"1\" class=\"dataframe\">\n",
       "  <thead>\n",
       "    <tr style=\"text-align: right;\">\n",
       "      <th></th>\n",
       "      <th>neighbourhood</th>\n",
       "      <th>id</th>\n",
       "      <th>price</th>\n",
       "    </tr>\n",
       "  </thead>\n",
       "  <tbody>\n",
       "    <tr>\n",
       "      <th>0</th>\n",
       "      <td>Astoria</td>\n",
       "      <td>7003697</td>\n",
       "      <td>10000</td>\n",
       "    </tr>\n",
       "    <tr>\n",
       "      <th>2</th>\n",
       "      <td>Greenpoint</td>\n",
       "      <td>13894339</td>\n",
       "      <td>10000</td>\n",
       "    </tr>\n",
       "    <tr>\n",
       "      <th>1</th>\n",
       "      <td>Upper West Side</td>\n",
       "      <td>22436899</td>\n",
       "      <td>10000</td>\n",
       "    </tr>\n",
       "  </tbody>\n",
       "</table>\n",
       "</div>"
      ],
      "text/plain": [
       "     neighbourhood        id  price\n",
       "0          Astoria   7003697  10000\n",
       "2       Greenpoint  13894339  10000\n",
       "1  Upper West Side  22436899  10000"
      ]
     },
     "metadata": {},
     "output_type": "display_data"
    }
   ],
   "source": [
    "df38_1 = data[['price', 'id','neighbourhood']].groupby(['neighbourhood', 'id']).max().sort_values('price', ascending=False)\\\n",
    "                                    .reset_index()\n",
    "\n",
    "df38_2 = df38_1[df38_1['price'] == df38_1['price'].max()].sort_values('id', ascending=True)\n",
    "\n",
    "display(df38_2[df38_2['id'] == df38_2['id'].min()]['neighbourhood'].min())\n",
    "\n",
    "display(df38_2.head())"
   ]
  },
  {
   "cell_type": "markdown",
   "id": "4545de9f",
   "metadata": {
    "heading_collapsed": true,
    "hidden": true,
    "id": "4545de9f"
   },
   "source": [
    "##### 39. Qual bairro está o imóvel com o menor valor de aluguel?"
   ]
  },
  {
   "cell_type": "code",
   "execution_count": 139,
   "id": "edbe00bb",
   "metadata": {
    "ExecuteTime": {
     "end_time": "2022-11-24T12:08:25.443081Z",
     "start_time": "2022-11-24T12:08:25.396483Z"
    },
    "hidden": true,
    "id": "edbe00bb"
   },
   "outputs": [
    {
     "data": {
      "text/plain": [
       "'East Village'"
      ]
     },
     "metadata": {},
     "output_type": "display_data"
    },
    {
     "data": {
      "text/html": [
       "<div>\n",
       "<style scoped>\n",
       "    .dataframe tbody tr th:only-of-type {\n",
       "        vertical-align: middle;\n",
       "    }\n",
       "\n",
       "    .dataframe tbody tr th {\n",
       "        vertical-align: top;\n",
       "    }\n",
       "\n",
       "    .dataframe thead th {\n",
       "        text-align: right;\n",
       "    }\n",
       "</style>\n",
       "<table border=\"1\" class=\"dataframe\">\n",
       "  <thead>\n",
       "    <tr style=\"text-align: right;\">\n",
       "      <th></th>\n",
       "      <th>neighbourhood</th>\n",
       "      <th>id</th>\n",
       "      <th>price</th>\n",
       "    </tr>\n",
       "  </thead>\n",
       "  <tbody>\n",
       "    <tr>\n",
       "      <th>48872</th>\n",
       "      <td>East Village</td>\n",
       "      <td>1620248</td>\n",
       "      <td>10</td>\n",
       "    </tr>\n",
       "    <tr>\n",
       "      <th>48870</th>\n",
       "      <td>Harlem</td>\n",
       "      <td>17437106</td>\n",
       "      <td>10</td>\n",
       "    </tr>\n",
       "    <tr>\n",
       "      <th>48881</th>\n",
       "      <td>Bushwick</td>\n",
       "      <td>17952277</td>\n",
       "      <td>10</td>\n",
       "    </tr>\n",
       "    <tr>\n",
       "      <th>48875</th>\n",
       "      <td>SoHo</td>\n",
       "      <td>17979764</td>\n",
       "      <td>10</td>\n",
       "    </tr>\n",
       "    <tr>\n",
       "      <th>48882</th>\n",
       "      <td>Jamaica</td>\n",
       "      <td>18490141</td>\n",
       "      <td>10</td>\n",
       "    </tr>\n",
       "    <tr>\n",
       "      <th>48868</th>\n",
       "      <td>Upper East Side</td>\n",
       "      <td>18835820</td>\n",
       "      <td>10</td>\n",
       "    </tr>\n",
       "    <tr>\n",
       "      <th>48883</th>\n",
       "      <td>Hell's Kitchen</td>\n",
       "      <td>19415314</td>\n",
       "      <td>10</td>\n",
       "    </tr>\n",
       "    <tr>\n",
       "      <th>48869</th>\n",
       "      <td>Greenpoint</td>\n",
       "      <td>21869057</td>\n",
       "      <td>10</td>\n",
       "    </tr>\n",
       "    <tr>\n",
       "      <th>48877</th>\n",
       "      <td>Upper West Side</td>\n",
       "      <td>24114389</td>\n",
       "      <td>10</td>\n",
       "    </tr>\n",
       "    <tr>\n",
       "      <th>48880</th>\n",
       "      <td>Kips Bay</td>\n",
       "      <td>24412104</td>\n",
       "      <td>10</td>\n",
       "    </tr>\n",
       "    <tr>\n",
       "      <th>48874</th>\n",
       "      <td>Sunset Park</td>\n",
       "      <td>25839759</td>\n",
       "      <td>10</td>\n",
       "    </tr>\n",
       "    <tr>\n",
       "      <th>48871</th>\n",
       "      <td>Jamaica</td>\n",
       "      <td>26235873</td>\n",
       "      <td>10</td>\n",
       "    </tr>\n",
       "    <tr>\n",
       "      <th>48873</th>\n",
       "      <td>Williamsburg</td>\n",
       "      <td>26496645</td>\n",
       "      <td>10</td>\n",
       "    </tr>\n",
       "    <tr>\n",
       "      <th>48878</th>\n",
       "      <td>Highbridge</td>\n",
       "      <td>27316669</td>\n",
       "      <td>10</td>\n",
       "    </tr>\n",
       "    <tr>\n",
       "      <th>48867</th>\n",
       "      <td>Woodhaven</td>\n",
       "      <td>28071998</td>\n",
       "      <td>10</td>\n",
       "    </tr>\n",
       "    <tr>\n",
       "      <th>48876</th>\n",
       "      <td>Bedford-Stuyvesant</td>\n",
       "      <td>28270998</td>\n",
       "      <td>10</td>\n",
       "    </tr>\n",
       "    <tr>\n",
       "      <th>48879</th>\n",
       "      <td>Bushwick</td>\n",
       "      <td>35642891</td>\n",
       "      <td>10</td>\n",
       "    </tr>\n",
       "  </tbody>\n",
       "</table>\n",
       "</div>"
      ],
      "text/plain": [
       "            neighbourhood        id  price\n",
       "48872        East Village   1620248     10\n",
       "48870              Harlem  17437106     10\n",
       "48881            Bushwick  17952277     10\n",
       "48875                SoHo  17979764     10\n",
       "48882             Jamaica  18490141     10\n",
       "48868     Upper East Side  18835820     10\n",
       "48883      Hell's Kitchen  19415314     10\n",
       "48869          Greenpoint  21869057     10\n",
       "48877     Upper West Side  24114389     10\n",
       "48880            Kips Bay  24412104     10\n",
       "48874         Sunset Park  25839759     10\n",
       "48871             Jamaica  26235873     10\n",
       "48873        Williamsburg  26496645     10\n",
       "48878          Highbridge  27316669     10\n",
       "48867           Woodhaven  28071998     10\n",
       "48876  Bedford-Stuyvesant  28270998     10\n",
       "48879            Bushwick  35642891     10"
      ]
     },
     "metadata": {},
     "output_type": "display_data"
    }
   ],
   "source": [
    "df39 = data[data['price'] != 0]\n",
    "\n",
    "df39_1 = df39[['price', 'id','neighbourhood']].groupby(['neighbourhood', 'id']).min().sort_values('price', ascending=False)\\\n",
    "                                    .reset_index()\n",
    "\n",
    "df39_2 = df39_1[df39_1['price'] == df39_1['price'].min()].sort_values('id', ascending=True)\n",
    "\n",
    "display(df39_2[df39_2['id'] == df39_2['id'].min()]['neighbourhood'].min())\n",
    "\n",
    "display(df39_2)"
   ]
  },
  {
   "cell_type": "markdown",
   "id": "5d79d6fe",
   "metadata": {
    "heading_collapsed": true,
    "hidden": true,
    "id": "5d79d6fe"
   },
   "source": [
    "##### 40. Qual região que possui o bairro com mais imóveis ativos disponíveis para locação?"
   ]
  },
  {
   "cell_type": "code",
   "execution_count": 521,
   "id": "77c21abc",
   "metadata": {
    "ExecuteTime": {
     "end_time": "2022-11-21T21:28:26.221987Z",
     "start_time": "2022-11-21T21:28:26.202084Z"
    },
    "hidden": true,
    "id": "77c21abc"
   },
   "outputs": [
    {
     "data": {
      "text/plain": [
       "'Brooklyn'"
      ]
     },
     "metadata": {},
     "output_type": "display_data"
    },
    {
     "data": {
      "text/html": [
       "<div>\n",
       "<style scoped>\n",
       "    .dataframe tbody tr th:only-of-type {\n",
       "        vertical-align: middle;\n",
       "    }\n",
       "\n",
       "    .dataframe tbody tr th {\n",
       "        vertical-align: top;\n",
       "    }\n",
       "\n",
       "    .dataframe thead th {\n",
       "        text-align: right;\n",
       "    }\n",
       "</style>\n",
       "<table border=\"1\" class=\"dataframe\">\n",
       "  <thead>\n",
       "    <tr style=\"text-align: right;\">\n",
       "      <th></th>\n",
       "      <th>neighbourhood_group</th>\n",
       "      <th>neighbourhood</th>\n",
       "      <th>id</th>\n",
       "    </tr>\n",
       "  </thead>\n",
       "  <tbody>\n",
       "    <tr>\n",
       "      <th>0</th>\n",
       "      <td>Brooklyn</td>\n",
       "      <td>Bedford-Stuyvesant</td>\n",
       "      <td>2482</td>\n",
       "    </tr>\n",
       "    <tr>\n",
       "      <th>1</th>\n",
       "      <td>Brooklyn</td>\n",
       "      <td>Williamsburg</td>\n",
       "      <td>2052</td>\n",
       "    </tr>\n",
       "    <tr>\n",
       "      <th>2</th>\n",
       "      <td>Manhattan</td>\n",
       "      <td>Harlem</td>\n",
       "      <td>1734</td>\n",
       "    </tr>\n",
       "    <tr>\n",
       "      <th>3</th>\n",
       "      <td>Brooklyn</td>\n",
       "      <td>Bushwick</td>\n",
       "      <td>1449</td>\n",
       "    </tr>\n",
       "    <tr>\n",
       "      <th>4</th>\n",
       "      <td>Manhattan</td>\n",
       "      <td>Hell's Kitchen</td>\n",
       "      <td>1446</td>\n",
       "    </tr>\n",
       "  </tbody>\n",
       "</table>\n",
       "</div>"
      ],
      "text/plain": [
       "  neighbourhood_group       neighbourhood    id\n",
       "0            Brooklyn  Bedford-Stuyvesant  2482\n",
       "1            Brooklyn        Williamsburg  2052\n",
       "2           Manhattan              Harlem  1734\n",
       "3            Brooklyn            Bushwick  1449\n",
       "4           Manhattan      Hell's Kitchen  1446"
      ]
     },
     "metadata": {},
     "output_type": "display_data"
    }
   ],
   "source": [
    "df40 = df15[['id', 'neighbourhood_group', 'neighbourhood']].groupby(['neighbourhood_group', 'neighbourhood']).count()\\\n",
    "                                                           .sort_values('id', ascending=False).reset_index()\n",
    "display(df40[df40['id'] == df40['id'].max()]['neighbourhood_group'].min())\n",
    "display(df40.head(5))"
   ]
  },
  {
   "cell_type": "markdown",
   "id": "2316bf28",
   "metadata": {
    "heading_collapsed": true,
    "hidden": true,
    "id": "2316bf28"
   },
   "source": [
    "##### 41. Qual região que possui o bairro com menos imóveis ativos disponíveis para locação?"
   ]
  },
  {
   "cell_type": "code",
   "execution_count": 238,
   "id": "d48111a6",
   "metadata": {
    "ExecuteTime": {
     "end_time": "2022-11-24T12:58:04.094149Z",
     "start_time": "2022-11-24T12:58:04.069230Z"
    },
    "hidden": true,
    "id": "d48111a6",
    "scrolled": false
   },
   "outputs": [
    {
     "data": {
      "text/plain": [
       "'Staten Island'"
      ]
     },
     "execution_count": 238,
     "metadata": {},
     "output_type": "execute_result"
    }
   ],
   "source": [
    "df41 = data[data['availability_365'] != 0]\n",
    "df41_1 = df41[['id','neighbourhood_group', 'neighbourhood']].groupby(['neighbourhood_group','neighbourhood']).count()\\\n",
    "                                                           .sort_values('id', ascending=True).reset_index()\n",
    "\n",
    "bairros41 = df41_1[df41_1['id'] == df41_1['id'].min()]['neighbourhood'].unique().tolist()\n",
    "\n",
    "df41_2 = filtraBairros(df41, bairros41)\n",
    "df41_2[df41_2['id'] == df41_2['id'].min()]['neighbourhood_group'].min()"
   ]
  },
  {
   "cell_type": "markdown",
   "id": "b405c226",
   "metadata": {
    "heading_collapsed": true,
    "hidden": true,
    "id": "b405c226"
   },
   "source": [
    "##### 42. O Bairro `Upper West Side`, na região de `Manhattan`, é o bairro que possui, na média, o maior aluguel dentro da base de dados?"
   ]
  },
  {
   "cell_type": "code",
   "execution_count": 22,
   "id": "37cb349b",
   "metadata": {
    "ExecuteTime": {
     "end_time": "2022-11-23T10:35:02.630745Z",
     "start_time": "2022-11-23T10:35:02.609488Z"
    },
    "hidden": true,
    "id": "37cb349b"
   },
   "outputs": [
    {
     "data": {
      "text/plain": [
       "False"
      ]
     },
     "metadata": {},
     "output_type": "display_data"
    },
    {
     "data": {
      "text/html": [
       "<div>\n",
       "<style scoped>\n",
       "    .dataframe tbody tr th:only-of-type {\n",
       "        vertical-align: middle;\n",
       "    }\n",
       "\n",
       "    .dataframe tbody tr th {\n",
       "        vertical-align: top;\n",
       "    }\n",
       "\n",
       "    .dataframe thead th {\n",
       "        text-align: right;\n",
       "    }\n",
       "</style>\n",
       "<table border=\"1\" class=\"dataframe\">\n",
       "  <thead>\n",
       "    <tr style=\"text-align: right;\">\n",
       "      <th></th>\n",
       "      <th>neighbourhood</th>\n",
       "      <th>price</th>\n",
       "    </tr>\n",
       "  </thead>\n",
       "  <tbody>\n",
       "    <tr>\n",
       "      <th>0</th>\n",
       "      <td>Fort Wadsworth</td>\n",
       "      <td>800.000000</td>\n",
       "    </tr>\n",
       "    <tr>\n",
       "      <th>1</th>\n",
       "      <td>Woodrow</td>\n",
       "      <td>700.000000</td>\n",
       "    </tr>\n",
       "    <tr>\n",
       "      <th>2</th>\n",
       "      <td>Tribeca</td>\n",
       "      <td>490.638418</td>\n",
       "    </tr>\n",
       "    <tr>\n",
       "      <th>3</th>\n",
       "      <td>Sea Gate</td>\n",
       "      <td>487.857143</td>\n",
       "    </tr>\n",
       "    <tr>\n",
       "      <th>4</th>\n",
       "      <td>Riverdale</td>\n",
       "      <td>442.090909</td>\n",
       "    </tr>\n",
       "  </tbody>\n",
       "</table>\n",
       "</div>"
      ],
      "text/plain": [
       "    neighbourhood       price\n",
       "0  Fort Wadsworth  800.000000\n",
       "1         Woodrow  700.000000\n",
       "2         Tribeca  490.638418\n",
       "3        Sea Gate  487.857143\n",
       "4       Riverdale  442.090909"
      ]
     },
     "metadata": {},
     "output_type": "display_data"
    }
   ],
   "source": [
    "#checking if there is another neighbourhood with the same name\n",
    "data[data['neighbourhood'] == 'Upper West Side']['neighbourhood_group'].unique()\n",
    "\n",
    "#creating new dataframe and grouping by neighbourhood and mean price\n",
    "df42 = data[['price', 'neighbourhood']].groupby('neighbourhood').mean().sort_values('price', ascending=False).reset_index()\n",
    "\n",
    "#neighbourhood with higher mean price\n",
    "neighbourhoodmaxmeanprice = df42[df42['price'] == df42['price'].max()]['neighbourhood'].min()\n",
    "\n",
    "#checking result\n",
    "display(neighbourhoodmaxmeanprice == 'Upper West Side')\n",
    "display(df42.head(5))"
   ]
  },
  {
   "cell_type": "markdown",
   "id": "4aee0885",
   "metadata": {
    "heading_collapsed": true,
    "hidden": true,
    "id": "4aee0885"
   },
   "source": [
    "##### 43. Qual é o bairro que possui, na média, o aluguel mais caro da base de dados?"
   ]
  },
  {
   "cell_type": "code",
   "execution_count": 27,
   "id": "702c77d8",
   "metadata": {
    "ExecuteTime": {
     "end_time": "2022-11-23T10:38:31.134802Z",
     "start_time": "2022-11-23T10:38:31.114190Z"
    },
    "hidden": true,
    "id": "702c77d8"
   },
   "outputs": [
    {
     "data": {
      "text/plain": [
       "'Fort Wadsworth'"
      ]
     },
     "execution_count": 27,
     "metadata": {},
     "output_type": "execute_result"
    }
   ],
   "source": [
    "df43 = data[['price', 'neighbourhood']].groupby('neighbourhood').mean().sort_values('price', ascending=False).reset_index()\n",
    "\n",
    "df43[df43['price'] == df43['price'].max()]['neighbourhood'].min()                                                            "
   ]
  },
  {
   "cell_type": "markdown",
   "id": "dc31583f",
   "metadata": {
    "heading_collapsed": true,
    "hidden": true,
    "id": "dc31583f"
   },
   "source": [
    "##### 44. Qual o `id` do imóvel que possui a melhor rentabilidade da base de dados? Levando em consideração o aluguel mais caro e imóvel mais rápido de alugar?  Utilize somente os imóveis que estejam ativos e que possuam pelo menos uma avaliação."
   ]
  },
  {
   "cell_type": "markdown",
   "id": "bc32d31c",
   "metadata": {
    "hidden": true,
    "id": "bc32d31c"
   },
   "source": [
    "Utilize a seguinte fórmula para verificar qual o melhor imóvel:\n",
    "\n",
    "$$ rentability = \\frac{price * (minimoum\\_nights + 1) * number\\_of\\_reviews}{\\sqrt{availability\\_365}} $$"
   ]
  },
  {
   "cell_type": "code",
   "execution_count": 171,
   "id": "3782762f",
   "metadata": {
    "ExecuteTime": {
     "end_time": "2022-11-24T12:26:02.460197Z",
     "start_time": "2022-11-24T12:26:00.043290Z"
    },
    "hidden": true,
    "id": "3782762f"
   },
   "outputs": [
    {
     "data": {
      "text/plain": [
       "2154075"
      ]
     },
     "execution_count": 171,
     "metadata": {},
     "output_type": "execute_result"
    }
   ],
   "source": [
    "df44 = data[(data['availability_365'] != 0) & (data['number_of_reviews'] > 0)].reset_index(drop=True)\n",
    "\n",
    "df44['rentability'] = np.nan\n",
    "\n",
    "for i in range(len(df44)):\n",
    "    df44.loc[i, 'rentability'] = \\\n",
    "                (df44.loc[i, 'price']*(df44.loc[i, 'minimum_nights']+1)*df44.loc[i, 'number_of_reviews'])\\\n",
    "                /sqrt(df44.loc[i, 'availability_365'])\n",
    "    \n",
    "df44[df44['rentability'] == df44['rentability'].max()]['id'].min()"
   ]
  },
  {
   "cell_type": "markdown",
   "id": "d6841ab4",
   "metadata": {
    "heading_collapsed": true,
    "hidden": true,
    "id": "d6841ab4"
   },
   "source": [
    "##### 45. Qual a região em que fica o melhor bairro para se adquirir um imóvel, visando a melhor rentabilidade média? Utilize como métrica o índice criado na questão anterior."
   ]
  },
  {
   "cell_type": "code",
   "execution_count": 90,
   "id": "6aedbabe",
   "metadata": {
    "ExecuteTime": {
     "end_time": "2022-11-23T11:32:10.044918Z",
     "start_time": "2022-11-23T11:32:10.016969Z"
    },
    "hidden": true,
    "id": "6aedbabe"
   },
   "outputs": [
    {
     "data": {
      "text/plain": [
       "'Manhattan'"
      ]
     },
     "metadata": {},
     "output_type": "display_data"
    },
    {
     "data": {
      "text/html": [
       "<div>\n",
       "<style scoped>\n",
       "    .dataframe tbody tr th:only-of-type {\n",
       "        vertical-align: middle;\n",
       "    }\n",
       "\n",
       "    .dataframe tbody tr th {\n",
       "        vertical-align: top;\n",
       "    }\n",
       "\n",
       "    .dataframe thead th {\n",
       "        text-align: right;\n",
       "    }\n",
       "</style>\n",
       "<table border=\"1\" class=\"dataframe\">\n",
       "  <thead>\n",
       "    <tr style=\"text-align: right;\">\n",
       "      <th></th>\n",
       "      <th>neighbourhood_group</th>\n",
       "      <th>neighbourhood</th>\n",
       "      <th>rentability</th>\n",
       "    </tr>\n",
       "  </thead>\n",
       "  <tbody>\n",
       "    <tr>\n",
       "      <th>0</th>\n",
       "      <td>Manhattan</td>\n",
       "      <td>Roosevelt Island</td>\n",
       "      <td>14897.288433</td>\n",
       "    </tr>\n",
       "    <tr>\n",
       "      <th>1</th>\n",
       "      <td>Manhattan</td>\n",
       "      <td>Nolita</td>\n",
       "      <td>7499.068618</td>\n",
       "    </tr>\n",
       "    <tr>\n",
       "      <th>2</th>\n",
       "      <td>Manhattan</td>\n",
       "      <td>Tribeca</td>\n",
       "      <td>7120.669828</td>\n",
       "    </tr>\n",
       "    <tr>\n",
       "      <th>3</th>\n",
       "      <td>Manhattan</td>\n",
       "      <td>Greenwich Village</td>\n",
       "      <td>6139.157036</td>\n",
       "    </tr>\n",
       "    <tr>\n",
       "      <th>4</th>\n",
       "      <td>Manhattan</td>\n",
       "      <td>Chelsea</td>\n",
       "      <td>6064.488392</td>\n",
       "    </tr>\n",
       "  </tbody>\n",
       "</table>\n",
       "</div>"
      ],
      "text/plain": [
       "  neighbourhood_group      neighbourhood   rentability\n",
       "0           Manhattan   Roosevelt Island  14897.288433\n",
       "1           Manhattan             Nolita   7499.068618\n",
       "2           Manhattan            Tribeca   7120.669828\n",
       "3           Manhattan  Greenwich Village   6139.157036\n",
       "4           Manhattan            Chelsea   6064.488392"
      ]
     },
     "metadata": {},
     "output_type": "display_data"
    }
   ],
   "source": [
    "df45 = df44[['rentability', 'neighbourhood', 'neighbourhood_group']].groupby(['neighbourhood_group','neighbourhood'])\\\n",
    "                                                             .mean().sort_values('rentability', ascending=False)\\\n",
    "                                                             .reset_index()\n",
    "\n",
    "display(df45[df45['rentability'] == df45['rentability'].max()]['neighbourhood_group'].min())\n",
    "display(df45.head(5))"
   ]
  },
  {
   "cell_type": "markdown",
   "id": "08c9638f",
   "metadata": {
    "heading_collapsed": true,
    "hidden": true,
    "id": "08c9638f"
   },
   "source": [
    "##### 46. Qual a região em que fica o pior bairro para se adquirir um imóvel, visando a melhor rentabilidade média? Utilize como métrica o índice criado na questão 44."
   ]
  },
  {
   "cell_type": "code",
   "execution_count": 89,
   "id": "0e3bece8",
   "metadata": {
    "ExecuteTime": {
     "end_time": "2022-11-23T11:31:57.102838Z",
     "start_time": "2022-11-23T11:31:57.072851Z"
    },
    "hidden": true,
    "id": "0e3bece8"
   },
   "outputs": [
    {
     "data": {
      "text/plain": [
       "'Staten Island'"
      ]
     },
     "metadata": {},
     "output_type": "display_data"
    },
    {
     "data": {
      "text/html": [
       "<div>\n",
       "<style scoped>\n",
       "    .dataframe tbody tr th:only-of-type {\n",
       "        vertical-align: middle;\n",
       "    }\n",
       "\n",
       "    .dataframe tbody tr th {\n",
       "        vertical-align: top;\n",
       "    }\n",
       "\n",
       "    .dataframe thead th {\n",
       "        text-align: right;\n",
       "    }\n",
       "</style>\n",
       "<table border=\"1\" class=\"dataframe\">\n",
       "  <thead>\n",
       "    <tr style=\"text-align: right;\">\n",
       "      <th></th>\n",
       "      <th>neighbourhood_group</th>\n",
       "      <th>neighbourhood</th>\n",
       "      <th>rentability</th>\n",
       "    </tr>\n",
       "  </thead>\n",
       "  <tbody>\n",
       "    <tr>\n",
       "      <th>0</th>\n",
       "      <td>Staten Island</td>\n",
       "      <td>Oakwood</td>\n",
       "      <td>32.544242</td>\n",
       "    </tr>\n",
       "    <tr>\n",
       "      <th>1</th>\n",
       "      <td>Queens</td>\n",
       "      <td>Little Neck</td>\n",
       "      <td>56.392666</td>\n",
       "    </tr>\n",
       "    <tr>\n",
       "      <th>2</th>\n",
       "      <td>Bronx</td>\n",
       "      <td>West Farms</td>\n",
       "      <td>73.942433</td>\n",
       "    </tr>\n",
       "    <tr>\n",
       "      <th>3</th>\n",
       "      <td>Queens</td>\n",
       "      <td>Breezy Point</td>\n",
       "      <td>87.051252</td>\n",
       "    </tr>\n",
       "    <tr>\n",
       "      <th>4</th>\n",
       "      <td>Staten Island</td>\n",
       "      <td>Port Richmond</td>\n",
       "      <td>142.422744</td>\n",
       "    </tr>\n",
       "  </tbody>\n",
       "</table>\n",
       "</div>"
      ],
      "text/plain": [
       "  neighbourhood_group  neighbourhood  rentability\n",
       "0       Staten Island        Oakwood    32.544242\n",
       "1              Queens    Little Neck    56.392666\n",
       "2               Bronx     West Farms    73.942433\n",
       "3              Queens   Breezy Point    87.051252\n",
       "4       Staten Island  Port Richmond   142.422744"
      ]
     },
     "metadata": {},
     "output_type": "display_data"
    }
   ],
   "source": [
    "df46 = df44[['rentability', 'neighbourhood', 'neighbourhood_group']].groupby(['neighbourhood_group','neighbourhood'])\\\n",
    "                                                             .mean().sort_values('rentability', ascending=True)\\\n",
    "                                                             .reset_index()\n",
    "\n",
    "display(df46[df46['rentability'] == df46['rentability'].min()]['neighbourhood_group'].min())\n",
    "display(df46.head(5))"
   ]
  },
  {
   "cell_type": "markdown",
   "id": "85146a48",
   "metadata": {
    "heading_collapsed": true,
    "hidden": true,
    "id": "85146a48"
   },
   "source": [
    "##### 47. Levando em conta o bairro encontrado na questão anterior, verifique qual é o `id` do imóvel ativo que possui a pior rentabilidade desse bairro"
   ]
  },
  {
   "cell_type": "code",
   "execution_count": 102,
   "id": "43678a96",
   "metadata": {
    "ExecuteTime": {
     "end_time": "2022-11-23T11:35:46.882116Z",
     "start_time": "2022-11-23T11:35:46.863977Z"
    },
    "hidden": true,
    "id": "43678a96"
   },
   "outputs": [
    {
     "data": {
      "text/plain": [
       "34396747"
      ]
     },
     "execution_count": 102,
     "metadata": {},
     "output_type": "execute_result"
    }
   ],
   "source": [
    "df47 = df44[df44['neighbourhood'] == 'Oakwood']\n",
    "\n",
    "df47[df47['rentability'] == df47['rentability'].min()]['id'].min()"
   ]
  },
  {
   "cell_type": "markdown",
   "id": "39ef122b",
   "metadata": {
    "heading_collapsed": true,
    "hidden": true,
    "id": "39ef122b"
   },
   "source": [
    "##### 48. Levando em conta o bairro da questão 45, verifique qual o `id` do imóvel ativo que possui a melhor rentabilidade desse bairro"
   ]
  },
  {
   "cell_type": "code",
   "execution_count": 175,
   "id": "7ddc79a5",
   "metadata": {
    "ExecuteTime": {
     "end_time": "2022-11-24T12:26:39.316443Z",
     "start_time": "2022-11-24T12:26:39.308953Z"
    },
    "hidden": true,
    "id": "7ddc79a5"
   },
   "outputs": [
    {
     "data": {
      "text/plain": [
       "3979611"
      ]
     },
     "execution_count": 175,
     "metadata": {},
     "output_type": "execute_result"
    }
   ],
   "source": [
    "df48 = df44[df44['neighbourhood'] == 'Roosevelt Island']\n",
    "\n",
    "df48[df48['rentability'] == df48['rentability'].max()]['id'].min()"
   ]
  },
  {
   "cell_type": "markdown",
   "id": "d53b8d9f",
   "metadata": {
    "heading_collapsed": true,
    "hidden": true,
    "id": "d53b8d9f"
   },
   "source": [
    "##### 49. Caso eu, investidor, compre o imóvel da questão anterior com um investimento de U\\$ 1.000.000,00, quantas vezes eu teria que locá-lo para ter o retorno do investimento feito? Utilize a fórmula abaixo para calcular o tempo de retorno do investimento"
   ]
  },
  {
   "cell_type": "markdown",
   "id": "d3fb69b5",
   "metadata": {
    "hidden": true,
    "id": "d3fb69b5"
   },
   "source": [
    "$$ return\\_investment = \\frac{investment}{price * (minimum\\_nights + 1)} $$"
   ]
  },
  {
   "cell_type": "code",
   "execution_count": 176,
   "id": "3f5421d2",
   "metadata": {
    "ExecuteTime": {
     "end_time": "2022-11-24T12:27:13.557917Z",
     "start_time": "2022-11-24T12:27:13.548423Z"
    },
    "hidden": true,
    "scrolled": true
   },
   "outputs": [
    {
     "data": {
      "text/plain": [
       "3632    7.849294\n",
       "dtype: float64"
      ]
     },
     "execution_count": 176,
     "metadata": {},
     "output_type": "execute_result"
    }
   ],
   "source": [
    "df49 = df44[df44['id'] == 3979611]\n",
    "investiment = 1000000\n",
    "\n",
    "return_investment = investiment / (df49['price'] * (df49['minimum_nights'] + 1))\n",
    "return_investment"
   ]
  },
  {
   "cell_type": "markdown",
   "id": "347a8aa2",
   "metadata": {
    "heading_collapsed": true,
    "hidden": true,
    "id": "347a8aa2"
   },
   "source": [
    "##### 50. Se eu desejasse comprar um imóvel que esteja ativo e com pelo menos uma avaliação em um dos bairros abaixo, qual seria o `id` do imóvel com a melhor rentabilidade dentre esses bairros? Utilize o índice calculado na questão 44."
   ]
  },
  {
   "cell_type": "markdown",
   "id": "095dfe95",
   "metadata": {
    "hidden": true,
    "id": "095dfe95"
   },
   "source": [
    "* East Harlem\n",
    "* Harlem\n",
    "* Midtown\n",
    "* Morningside Heights\n",
    "* Upper West Side\n",
    "* Upper East Side"
   ]
  },
  {
   "cell_type": "code",
   "execution_count": 32,
   "id": "c5f19180",
   "metadata": {
    "ExecuteTime": {
     "end_time": "2022-11-24T10:53:36.019422Z",
     "start_time": "2022-11-24T10:53:36.011064Z"
    },
    "hidden": true
   },
   "outputs": [],
   "source": [
    "neighbourhoods = ['East Harlem', 'Harlem', 'Midtown', 'Morningside Heights', 'Upper West Side', 'Upper East Side']\n",
    "\n",
    "def filtraBairros (df, lista):\n",
    "    return df.loc[df['neighbourhood'].isin(lista)]"
   ]
  },
  {
   "cell_type": "code",
   "execution_count": 188,
   "id": "43cc28eb",
   "metadata": {
    "ExecuteTime": {
     "end_time": "2022-11-24T12:31:18.025596Z",
     "start_time": "2022-11-24T12:31:18.004200Z"
    },
    "hidden": true,
    "id": "43cc28eb"
   },
   "outputs": [
    {
     "data": {
      "text/plain": [
       "5240711"
      ]
     },
     "metadata": {},
     "output_type": "display_data"
    },
    {
     "data": {
      "text/html": [
       "<div>\n",
       "<style scoped>\n",
       "    .dataframe tbody tr th:only-of-type {\n",
       "        vertical-align: middle;\n",
       "    }\n",
       "\n",
       "    .dataframe tbody tr th {\n",
       "        vertical-align: top;\n",
       "    }\n",
       "\n",
       "    .dataframe thead th {\n",
       "        text-align: right;\n",
       "    }\n",
       "</style>\n",
       "<table border=\"1\" class=\"dataframe\">\n",
       "  <thead>\n",
       "    <tr style=\"text-align: right;\">\n",
       "      <th></th>\n",
       "      <th>neighbourhood</th>\n",
       "      <th>id</th>\n",
       "      <th>rentability</th>\n",
       "    </tr>\n",
       "  </thead>\n",
       "  <tbody>\n",
       "    <tr>\n",
       "      <th>0</th>\n",
       "      <td>Midtown</td>\n",
       "      <td>5240711</td>\n",
       "      <td>310182.009472</td>\n",
       "    </tr>\n",
       "    <tr>\n",
       "      <th>1</th>\n",
       "      <td>Upper East Side</td>\n",
       "      <td>12855469</td>\n",
       "      <td>239673.704661</td>\n",
       "    </tr>\n",
       "    <tr>\n",
       "      <th>2</th>\n",
       "      <td>Upper East Side</td>\n",
       "      <td>19721906</td>\n",
       "      <td>236251.730152</td>\n",
       "    </tr>\n",
       "    <tr>\n",
       "      <th>3</th>\n",
       "      <td>Harlem</td>\n",
       "      <td>3098703</td>\n",
       "      <td>194435.504191</td>\n",
       "    </tr>\n",
       "    <tr>\n",
       "      <th>4</th>\n",
       "      <td>Upper West Side</td>\n",
       "      <td>664047</td>\n",
       "      <td>191731.296636</td>\n",
       "    </tr>\n",
       "  </tbody>\n",
       "</table>\n",
       "</div>"
      ],
      "text/plain": [
       "     neighbourhood        id    rentability\n",
       "0          Midtown   5240711  310182.009472\n",
       "1  Upper East Side  12855469  239673.704661\n",
       "2  Upper East Side  19721906  236251.730152\n",
       "3           Harlem   3098703  194435.504191\n",
       "4  Upper West Side    664047  191731.296636"
      ]
     },
     "metadata": {},
     "output_type": "display_data"
    }
   ],
   "source": [
    "df50 = filtraBairros(df44, neighbourhoods).reset_index(drop=True)\n",
    "\n",
    "df50_2 = df50[df50['availability_365'] !=0][['rentability','id','neighbourhood']].groupby(['neighbourhood', 'id']).max()\\\n",
    "                                          .sort_values('rentability', ascending=False).reset_index()\n",
    "\n",
    "display(df50_2[df50_2['rentability'] == df50_2['rentability'].max()]['id'].min())\n",
    "\n",
    "display(df50_2.head())"
   ]
  }
 ],
 "metadata": {
  "colab": {
   "name": "projeto_final_certificacao_aluno.ipynb",
   "provenance": []
  },
  "kernelspec": {
   "display_name": "Python 3 (ipykernel)",
   "language": "python",
   "name": "python3"
  },
  "language_info": {
   "codemirror_mode": {
    "name": "ipython",
    "version": 3
   },
   "file_extension": ".py",
   "mimetype": "text/x-python",
   "name": "python",
   "nbconvert_exporter": "python",
   "pygments_lexer": "ipython3",
   "version": "3.9.12"
  },
  "latex_envs": {
   "LaTeX_envs_menu_present": true,
   "autoclose": false,
   "autocomplete": true,
   "bibliofile": "biblio.bib",
   "cite_by": "apalike",
   "current_citInitial": 1,
   "eqLabelWithNumbers": true,
   "eqNumInitial": 1,
   "hotkeys": {
    "equation": "Ctrl-E",
    "itemize": "Ctrl-I"
   },
   "labels_anchors": false,
   "latex_user_defs": false,
   "report_style_numbering": false,
   "user_envs_cfg": false
  },
  "toc": {
   "base_numbering": 1,
   "nav_menu": {},
   "number_sections": false,
   "sideBar": true,
   "skip_h1_title": false,
   "title_cell": "Table of Contents",
   "title_sidebar": "Contents",
   "toc_cell": false,
   "toc_position": {},
   "toc_section_display": true,
   "toc_window_display": false
  }
 },
 "nbformat": 4,
 "nbformat_minor": 5
}
